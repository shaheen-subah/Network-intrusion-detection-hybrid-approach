{
 "cells": [
  {
   "cell_type": "code",
   "execution_count": 2,
   "metadata": {
    "colab": {
     "base_uri": "https://localhost:8080/",
     "height": 0
    },
    "id": "ar5NGIiLyOlL",
    "outputId": "dd6eba6c-0069-439f-8ffb-449a0b33dfa7"
   },
   "outputs": [
    {
     "name": "stdout",
     "output_type": "stream",
     "text": [
      "Mounted at /content/drive\n"
     ]
    }
   ],
   "source": [
    "from google.colab import drive\n",
    "drive.mount('/content/drive')"
   ]
  },
  {
   "cell_type": "code",
   "execution_count": 3,
   "metadata": {
    "id": "1NgP5Z1VVyMY"
   },
   "outputs": [],
   "source": [
    "import os\n",
    "from pathlib import Path\n",
    "import pandas as pd\n",
    "import numpy as np\n",
    "df=pd.read_csv(\"/content/drive/MyDrive/KDD_Train (1).csv\")"
   ]
  },
  {
   "cell_type": "code",
   "execution_count": 4,
   "metadata": {
    "colab": {
     "base_uri": "https://localhost:8080/",
     "height": 0
    },
    "id": "XDG78BrYmu2h",
    "outputId": "bf3f05cb-5cd3-4ae9-a7f4-527550cd56ba"
   },
   "outputs": [
    {
     "name": "stdout",
     "output_type": "stream",
     "text": [
      "(125973, 42)\n"
     ]
    }
   ],
   "source": [
    "print(df.shape)\n",
    "df.head(5)\n",
    "df = df.reset_index()"
   ]
  },
  {
   "cell_type": "code",
   "execution_count": 5,
   "metadata": {
    "colab": {
     "base_uri": "https://localhost:8080/",
     "height": 488
    },
    "id": "W4Kc-xLuqopw",
    "outputId": "173255f4-beb4-430f-90f1-23fb16f5dd90"
   },
   "outputs": [
    {
     "data": {
      "text/html": [
       "\n",
       "  <div id=\"df-4bb79fa4-fae7-41e4-ace6-7731ac3098ce\">\n",
       "    <div class=\"colab-df-container\">\n",
       "      <div>\n",
       "<style scoped>\n",
       "    .dataframe tbody tr th:only-of-type {\n",
       "        vertical-align: middle;\n",
       "    }\n",
       "\n",
       "    .dataframe tbody tr th {\n",
       "        vertical-align: top;\n",
       "    }\n",
       "\n",
       "    .dataframe thead th {\n",
       "        text-align: right;\n",
       "    }\n",
       "</style>\n",
       "<table border=\"1\" class=\"dataframe\">\n",
       "  <thead>\n",
       "    <tr style=\"text-align: right;\">\n",
       "      <th></th>\n",
       "      <th>index</th>\n",
       "      <th>duration</th>\n",
       "      <th>protocol_type</th>\n",
       "      <th>service</th>\n",
       "      <th>flag</th>\n",
       "      <th>src_bytes</th>\n",
       "      <th>dst_bytes</th>\n",
       "      <th>land</th>\n",
       "      <th>wrong_fragment</th>\n",
       "      <th>urgent</th>\n",
       "      <th>...</th>\n",
       "      <th>dst_host_srv_count</th>\n",
       "      <th>dst_host_same_srv_rate</th>\n",
       "      <th>dst_host_diff_srv_rate</th>\n",
       "      <th>dst_host_same_src_port_rate</th>\n",
       "      <th>dst_host_srv_diff_host_rate</th>\n",
       "      <th>dst_host_serror_rate</th>\n",
       "      <th>dst_host_srv_serror_rate</th>\n",
       "      <th>dst_host_rerror_rate</th>\n",
       "      <th>dst_host_srv_rerror_rate</th>\n",
       "      <th>class</th>\n",
       "    </tr>\n",
       "  </thead>\n",
       "  <tbody>\n",
       "    <tr>\n",
       "      <th>0</th>\n",
       "      <td>0</td>\n",
       "      <td>0</td>\n",
       "      <td>tcp</td>\n",
       "      <td>ftp_data</td>\n",
       "      <td>SF</td>\n",
       "      <td>491</td>\n",
       "      <td>0</td>\n",
       "      <td>0</td>\n",
       "      <td>0</td>\n",
       "      <td>0</td>\n",
       "      <td>...</td>\n",
       "      <td>25</td>\n",
       "      <td>0.17</td>\n",
       "      <td>0.03</td>\n",
       "      <td>0.17</td>\n",
       "      <td>0.00</td>\n",
       "      <td>0.00</td>\n",
       "      <td>0.00</td>\n",
       "      <td>0.05</td>\n",
       "      <td>0.00</td>\n",
       "      <td>normal</td>\n",
       "    </tr>\n",
       "    <tr>\n",
       "      <th>1</th>\n",
       "      <td>1</td>\n",
       "      <td>0</td>\n",
       "      <td>udp</td>\n",
       "      <td>other</td>\n",
       "      <td>SF</td>\n",
       "      <td>146</td>\n",
       "      <td>0</td>\n",
       "      <td>0</td>\n",
       "      <td>0</td>\n",
       "      <td>0</td>\n",
       "      <td>...</td>\n",
       "      <td>1</td>\n",
       "      <td>0.00</td>\n",
       "      <td>0.60</td>\n",
       "      <td>0.88</td>\n",
       "      <td>0.00</td>\n",
       "      <td>0.00</td>\n",
       "      <td>0.00</td>\n",
       "      <td>0.00</td>\n",
       "      <td>0.00</td>\n",
       "      <td>normal</td>\n",
       "    </tr>\n",
       "    <tr>\n",
       "      <th>2</th>\n",
       "      <td>2</td>\n",
       "      <td>0</td>\n",
       "      <td>tcp</td>\n",
       "      <td>private</td>\n",
       "      <td>S0</td>\n",
       "      <td>0</td>\n",
       "      <td>0</td>\n",
       "      <td>0</td>\n",
       "      <td>0</td>\n",
       "      <td>0</td>\n",
       "      <td>...</td>\n",
       "      <td>26</td>\n",
       "      <td>0.10</td>\n",
       "      <td>0.05</td>\n",
       "      <td>0.00</td>\n",
       "      <td>0.00</td>\n",
       "      <td>1.00</td>\n",
       "      <td>1.00</td>\n",
       "      <td>0.00</td>\n",
       "      <td>0.00</td>\n",
       "      <td>anomaly</td>\n",
       "    </tr>\n",
       "    <tr>\n",
       "      <th>3</th>\n",
       "      <td>3</td>\n",
       "      <td>0</td>\n",
       "      <td>tcp</td>\n",
       "      <td>http</td>\n",
       "      <td>SF</td>\n",
       "      <td>232</td>\n",
       "      <td>8153</td>\n",
       "      <td>0</td>\n",
       "      <td>0</td>\n",
       "      <td>0</td>\n",
       "      <td>...</td>\n",
       "      <td>255</td>\n",
       "      <td>1.00</td>\n",
       "      <td>0.00</td>\n",
       "      <td>0.03</td>\n",
       "      <td>0.04</td>\n",
       "      <td>0.03</td>\n",
       "      <td>0.01</td>\n",
       "      <td>0.00</td>\n",
       "      <td>0.01</td>\n",
       "      <td>normal</td>\n",
       "    </tr>\n",
       "    <tr>\n",
       "      <th>4</th>\n",
       "      <td>4</td>\n",
       "      <td>0</td>\n",
       "      <td>tcp</td>\n",
       "      <td>http</td>\n",
       "      <td>SF</td>\n",
       "      <td>199</td>\n",
       "      <td>420</td>\n",
       "      <td>0</td>\n",
       "      <td>0</td>\n",
       "      <td>0</td>\n",
       "      <td>...</td>\n",
       "      <td>255</td>\n",
       "      <td>1.00</td>\n",
       "      <td>0.00</td>\n",
       "      <td>0.00</td>\n",
       "      <td>0.00</td>\n",
       "      <td>0.00</td>\n",
       "      <td>0.00</td>\n",
       "      <td>0.00</td>\n",
       "      <td>0.00</td>\n",
       "      <td>normal</td>\n",
       "    </tr>\n",
       "    <tr>\n",
       "      <th>...</th>\n",
       "      <td>...</td>\n",
       "      <td>...</td>\n",
       "      <td>...</td>\n",
       "      <td>...</td>\n",
       "      <td>...</td>\n",
       "      <td>...</td>\n",
       "      <td>...</td>\n",
       "      <td>...</td>\n",
       "      <td>...</td>\n",
       "      <td>...</td>\n",
       "      <td>...</td>\n",
       "      <td>...</td>\n",
       "      <td>...</td>\n",
       "      <td>...</td>\n",
       "      <td>...</td>\n",
       "      <td>...</td>\n",
       "      <td>...</td>\n",
       "      <td>...</td>\n",
       "      <td>...</td>\n",
       "      <td>...</td>\n",
       "      <td>...</td>\n",
       "    </tr>\n",
       "    <tr>\n",
       "      <th>125968</th>\n",
       "      <td>125968</td>\n",
       "      <td>0</td>\n",
       "      <td>tcp</td>\n",
       "      <td>private</td>\n",
       "      <td>S0</td>\n",
       "      <td>0</td>\n",
       "      <td>0</td>\n",
       "      <td>0</td>\n",
       "      <td>0</td>\n",
       "      <td>0</td>\n",
       "      <td>...</td>\n",
       "      <td>25</td>\n",
       "      <td>0.10</td>\n",
       "      <td>0.06</td>\n",
       "      <td>0.00</td>\n",
       "      <td>0.00</td>\n",
       "      <td>1.00</td>\n",
       "      <td>1.00</td>\n",
       "      <td>0.00</td>\n",
       "      <td>0.00</td>\n",
       "      <td>anomaly</td>\n",
       "    </tr>\n",
       "    <tr>\n",
       "      <th>125969</th>\n",
       "      <td>125969</td>\n",
       "      <td>8</td>\n",
       "      <td>udp</td>\n",
       "      <td>private</td>\n",
       "      <td>SF</td>\n",
       "      <td>105</td>\n",
       "      <td>145</td>\n",
       "      <td>0</td>\n",
       "      <td>0</td>\n",
       "      <td>0</td>\n",
       "      <td>...</td>\n",
       "      <td>244</td>\n",
       "      <td>0.96</td>\n",
       "      <td>0.01</td>\n",
       "      <td>0.01</td>\n",
       "      <td>0.00</td>\n",
       "      <td>0.00</td>\n",
       "      <td>0.00</td>\n",
       "      <td>0.00</td>\n",
       "      <td>0.00</td>\n",
       "      <td>normal</td>\n",
       "    </tr>\n",
       "    <tr>\n",
       "      <th>125970</th>\n",
       "      <td>125970</td>\n",
       "      <td>0</td>\n",
       "      <td>tcp</td>\n",
       "      <td>smtp</td>\n",
       "      <td>SF</td>\n",
       "      <td>2231</td>\n",
       "      <td>384</td>\n",
       "      <td>0</td>\n",
       "      <td>0</td>\n",
       "      <td>0</td>\n",
       "      <td>...</td>\n",
       "      <td>30</td>\n",
       "      <td>0.12</td>\n",
       "      <td>0.06</td>\n",
       "      <td>0.00</td>\n",
       "      <td>0.00</td>\n",
       "      <td>0.72</td>\n",
       "      <td>0.00</td>\n",
       "      <td>0.01</td>\n",
       "      <td>0.00</td>\n",
       "      <td>normal</td>\n",
       "    </tr>\n",
       "    <tr>\n",
       "      <th>125971</th>\n",
       "      <td>125971</td>\n",
       "      <td>0</td>\n",
       "      <td>tcp</td>\n",
       "      <td>klogin</td>\n",
       "      <td>S0</td>\n",
       "      <td>0</td>\n",
       "      <td>0</td>\n",
       "      <td>0</td>\n",
       "      <td>0</td>\n",
       "      <td>0</td>\n",
       "      <td>...</td>\n",
       "      <td>8</td>\n",
       "      <td>0.03</td>\n",
       "      <td>0.05</td>\n",
       "      <td>0.00</td>\n",
       "      <td>0.00</td>\n",
       "      <td>1.00</td>\n",
       "      <td>1.00</td>\n",
       "      <td>0.00</td>\n",
       "      <td>0.00</td>\n",
       "      <td>anomaly</td>\n",
       "    </tr>\n",
       "    <tr>\n",
       "      <th>125972</th>\n",
       "      <td>125972</td>\n",
       "      <td>0</td>\n",
       "      <td>tcp</td>\n",
       "      <td>ftp_data</td>\n",
       "      <td>SF</td>\n",
       "      <td>151</td>\n",
       "      <td>0</td>\n",
       "      <td>0</td>\n",
       "      <td>0</td>\n",
       "      <td>0</td>\n",
       "      <td>...</td>\n",
       "      <td>77</td>\n",
       "      <td>0.30</td>\n",
       "      <td>0.03</td>\n",
       "      <td>0.30</td>\n",
       "      <td>0.00</td>\n",
       "      <td>0.00</td>\n",
       "      <td>0.00</td>\n",
       "      <td>0.00</td>\n",
       "      <td>0.00</td>\n",
       "      <td>normal</td>\n",
       "    </tr>\n",
       "  </tbody>\n",
       "</table>\n",
       "<p>125973 rows × 43 columns</p>\n",
       "</div>\n",
       "      <button class=\"colab-df-convert\" onclick=\"convertToInteractive('df-4bb79fa4-fae7-41e4-ace6-7731ac3098ce')\"\n",
       "              title=\"Convert this dataframe to an interactive table.\"\n",
       "              style=\"display:none;\">\n",
       "        \n",
       "  <svg xmlns=\"http://www.w3.org/2000/svg\" height=\"24px\"viewBox=\"0 0 24 24\"\n",
       "       width=\"24px\">\n",
       "    <path d=\"M0 0h24v24H0V0z\" fill=\"none\"/>\n",
       "    <path d=\"M18.56 5.44l.94 2.06.94-2.06 2.06-.94-2.06-.94-.94-2.06-.94 2.06-2.06.94zm-11 1L8.5 8.5l.94-2.06 2.06-.94-2.06-.94L8.5 2.5l-.94 2.06-2.06.94zm10 10l.94 2.06.94-2.06 2.06-.94-2.06-.94-.94-2.06-.94 2.06-2.06.94z\"/><path d=\"M17.41 7.96l-1.37-1.37c-.4-.4-.92-.59-1.43-.59-.52 0-1.04.2-1.43.59L10.3 9.45l-7.72 7.72c-.78.78-.78 2.05 0 2.83L4 21.41c.39.39.9.59 1.41.59.51 0 1.02-.2 1.41-.59l7.78-7.78 2.81-2.81c.8-.78.8-2.07 0-2.86zM5.41 20L4 18.59l7.72-7.72 1.47 1.35L5.41 20z\"/>\n",
       "  </svg>\n",
       "      </button>\n",
       "      \n",
       "  <style>\n",
       "    .colab-df-container {\n",
       "      display:flex;\n",
       "      flex-wrap:wrap;\n",
       "      gap: 12px;\n",
       "    }\n",
       "\n",
       "    .colab-df-convert {\n",
       "      background-color: #E8F0FE;\n",
       "      border: none;\n",
       "      border-radius: 50%;\n",
       "      cursor: pointer;\n",
       "      display: none;\n",
       "      fill: #1967D2;\n",
       "      height: 32px;\n",
       "      padding: 0 0 0 0;\n",
       "      width: 32px;\n",
       "    }\n",
       "\n",
       "    .colab-df-convert:hover {\n",
       "      background-color: #E2EBFA;\n",
       "      box-shadow: 0px 1px 2px rgba(60, 64, 67, 0.3), 0px 1px 3px 1px rgba(60, 64, 67, 0.15);\n",
       "      fill: #174EA6;\n",
       "    }\n",
       "\n",
       "    [theme=dark] .colab-df-convert {\n",
       "      background-color: #3B4455;\n",
       "      fill: #D2E3FC;\n",
       "    }\n",
       "\n",
       "    [theme=dark] .colab-df-convert:hover {\n",
       "      background-color: #434B5C;\n",
       "      box-shadow: 0px 1px 3px 1px rgba(0, 0, 0, 0.15);\n",
       "      filter: drop-shadow(0px 1px 2px rgba(0, 0, 0, 0.3));\n",
       "      fill: #FFFFFF;\n",
       "    }\n",
       "  </style>\n",
       "\n",
       "      <script>\n",
       "        const buttonEl =\n",
       "          document.querySelector('#df-4bb79fa4-fae7-41e4-ace6-7731ac3098ce button.colab-df-convert');\n",
       "        buttonEl.style.display =\n",
       "          google.colab.kernel.accessAllowed ? 'block' : 'none';\n",
       "\n",
       "        async function convertToInteractive(key) {\n",
       "          const element = document.querySelector('#df-4bb79fa4-fae7-41e4-ace6-7731ac3098ce');\n",
       "          const dataTable =\n",
       "            await google.colab.kernel.invokeFunction('convertToInteractive',\n",
       "                                                     [key], {});\n",
       "          if (!dataTable) return;\n",
       "\n",
       "          const docLinkHtml = 'Like what you see? Visit the ' +\n",
       "            '<a target=\"_blank\" href=https://colab.research.google.com/notebooks/data_table.ipynb>data table notebook</a>'\n",
       "            + ' to learn more about interactive tables.';\n",
       "          element.innerHTML = '';\n",
       "          dataTable['output_type'] = 'display_data';\n",
       "          await google.colab.output.renderOutput(dataTable, element);\n",
       "          const docLink = document.createElement('div');\n",
       "          docLink.innerHTML = docLinkHtml;\n",
       "          element.appendChild(docLink);\n",
       "        }\n",
       "      </script>\n",
       "    </div>\n",
       "  </div>\n",
       "  "
      ],
      "text/plain": [
       "         index  duration protocol_type   service flag  src_bytes  dst_bytes  \\\n",
       "0            0         0           tcp  ftp_data   SF        491          0   \n",
       "1            1         0           udp     other   SF        146          0   \n",
       "2            2         0           tcp   private   S0          0          0   \n",
       "3            3         0           tcp      http   SF        232       8153   \n",
       "4            4         0           tcp      http   SF        199        420   \n",
       "...        ...       ...           ...       ...  ...        ...        ...   \n",
       "125968  125968         0           tcp   private   S0          0          0   \n",
       "125969  125969         8           udp   private   SF        105        145   \n",
       "125970  125970         0           tcp      smtp   SF       2231        384   \n",
       "125971  125971         0           tcp    klogin   S0          0          0   \n",
       "125972  125972         0           tcp  ftp_data   SF        151          0   \n",
       "\n",
       "        land  wrong_fragment  urgent  ...  dst_host_srv_count  \\\n",
       "0          0               0       0  ...                  25   \n",
       "1          0               0       0  ...                   1   \n",
       "2          0               0       0  ...                  26   \n",
       "3          0               0       0  ...                 255   \n",
       "4          0               0       0  ...                 255   \n",
       "...      ...             ...     ...  ...                 ...   \n",
       "125968     0               0       0  ...                  25   \n",
       "125969     0               0       0  ...                 244   \n",
       "125970     0               0       0  ...                  30   \n",
       "125971     0               0       0  ...                   8   \n",
       "125972     0               0       0  ...                  77   \n",
       "\n",
       "        dst_host_same_srv_rate  dst_host_diff_srv_rate  \\\n",
       "0                         0.17                    0.03   \n",
       "1                         0.00                    0.60   \n",
       "2                         0.10                    0.05   \n",
       "3                         1.00                    0.00   \n",
       "4                         1.00                    0.00   \n",
       "...                        ...                     ...   \n",
       "125968                    0.10                    0.06   \n",
       "125969                    0.96                    0.01   \n",
       "125970                    0.12                    0.06   \n",
       "125971                    0.03                    0.05   \n",
       "125972                    0.30                    0.03   \n",
       "\n",
       "        dst_host_same_src_port_rate  dst_host_srv_diff_host_rate  \\\n",
       "0                              0.17                         0.00   \n",
       "1                              0.88                         0.00   \n",
       "2                              0.00                         0.00   \n",
       "3                              0.03                         0.04   \n",
       "4                              0.00                         0.00   \n",
       "...                             ...                          ...   \n",
       "125968                         0.00                         0.00   \n",
       "125969                         0.01                         0.00   \n",
       "125970                         0.00                         0.00   \n",
       "125971                         0.00                         0.00   \n",
       "125972                         0.30                         0.00   \n",
       "\n",
       "        dst_host_serror_rate  dst_host_srv_serror_rate  dst_host_rerror_rate  \\\n",
       "0                       0.00                      0.00                  0.05   \n",
       "1                       0.00                      0.00                  0.00   \n",
       "2                       1.00                      1.00                  0.00   \n",
       "3                       0.03                      0.01                  0.00   \n",
       "4                       0.00                      0.00                  0.00   \n",
       "...                      ...                       ...                   ...   \n",
       "125968                  1.00                      1.00                  0.00   \n",
       "125969                  0.00                      0.00                  0.00   \n",
       "125970                  0.72                      0.00                  0.01   \n",
       "125971                  1.00                      1.00                  0.00   \n",
       "125972                  0.00                      0.00                  0.00   \n",
       "\n",
       "        dst_host_srv_rerror_rate    class  \n",
       "0                           0.00   normal  \n",
       "1                           0.00   normal  \n",
       "2                           0.00  anomaly  \n",
       "3                           0.01   normal  \n",
       "4                           0.00   normal  \n",
       "...                          ...      ...  \n",
       "125968                      0.00  anomaly  \n",
       "125969                      0.00   normal  \n",
       "125970                      0.00   normal  \n",
       "125971                      0.00  anomaly  \n",
       "125972                      0.00   normal  \n",
       "\n",
       "[125973 rows x 43 columns]"
      ]
     },
     "execution_count": 5,
     "metadata": {},
     "output_type": "execute_result"
    }
   ],
   "source": [
    "df.dropna()"
   ]
  },
  {
   "cell_type": "code",
   "execution_count": 6,
   "metadata": {
    "colab": {
     "base_uri": "https://localhost:8080/",
     "height": 0
    },
    "id": "d1fT99XEs8s5",
    "outputId": "0571b9f2-6225-4146-89da-9b0a4cde6ecb"
   },
   "outputs": [
    {
     "data": {
      "text/plain": [
       "flag\n",
       "SF        74945\n",
       "S0        34851\n",
       "REJ       11233\n",
       "RSTR       2421\n",
       "RSTO       1562\n",
       "S1          365\n",
       "SH          271\n",
       "S2          127\n",
       "RSTOS0      103\n",
       "S3           49\n",
       "OTH          46\n",
       "dtype: int64"
      ]
     },
     "execution_count": 6,
     "metadata": {},
     "output_type": "execute_result"
    }
   ],
   "source": [
    "df.value_counts('protocol_type')\n",
    "df.value_counts('flag')"
   ]
  },
  {
   "cell_type": "code",
   "execution_count": 7,
   "metadata": {
    "colab": {
     "base_uri": "https://localhost:8080/",
     "height": 299
    },
    "id": "5yJoVcR7re67",
    "outputId": "317db321-cbc6-4b98-ef94-9f9d9536307a"
   },
   "outputs": [
    {
     "data": {
      "text/html": [
       "\n",
       "  <div id=\"df-cd85b7bf-c6fe-4b81-a120-11158d0cf95b\">\n",
       "    <div class=\"colab-df-container\">\n",
       "      <div>\n",
       "<style scoped>\n",
       "    .dataframe tbody tr th:only-of-type {\n",
       "        vertical-align: middle;\n",
       "    }\n",
       "\n",
       "    .dataframe tbody tr th {\n",
       "        vertical-align: top;\n",
       "    }\n",
       "\n",
       "    .dataframe thead th {\n",
       "        text-align: right;\n",
       "    }\n",
       "</style>\n",
       "<table border=\"1\" class=\"dataframe\">\n",
       "  <thead>\n",
       "    <tr style=\"text-align: right;\">\n",
       "      <th></th>\n",
       "      <th>index</th>\n",
       "      <th>duration</th>\n",
       "      <th>protocol_type</th>\n",
       "      <th>src_bytes</th>\n",
       "      <th>dst_bytes</th>\n",
       "      <th>land</th>\n",
       "      <th>wrong_fragment</th>\n",
       "      <th>urgent</th>\n",
       "      <th>hot</th>\n",
       "      <th>num_failed_logins</th>\n",
       "      <th>...</th>\n",
       "      <th>dst_host_srv_count</th>\n",
       "      <th>dst_host_same_srv_rate</th>\n",
       "      <th>dst_host_diff_srv_rate</th>\n",
       "      <th>dst_host_same_src_port_rate</th>\n",
       "      <th>dst_host_srv_diff_host_rate</th>\n",
       "      <th>dst_host_serror_rate</th>\n",
       "      <th>dst_host_srv_serror_rate</th>\n",
       "      <th>dst_host_rerror_rate</th>\n",
       "      <th>dst_host_srv_rerror_rate</th>\n",
       "      <th>class</th>\n",
       "    </tr>\n",
       "  </thead>\n",
       "  <tbody>\n",
       "    <tr>\n",
       "      <th>0</th>\n",
       "      <td>0</td>\n",
       "      <td>0</td>\n",
       "      <td>0</td>\n",
       "      <td>491</td>\n",
       "      <td>0</td>\n",
       "      <td>0</td>\n",
       "      <td>0</td>\n",
       "      <td>0</td>\n",
       "      <td>0</td>\n",
       "      <td>0</td>\n",
       "      <td>...</td>\n",
       "      <td>25</td>\n",
       "      <td>0.17</td>\n",
       "      <td>0.03</td>\n",
       "      <td>0.17</td>\n",
       "      <td>0.00</td>\n",
       "      <td>0.00</td>\n",
       "      <td>0.00</td>\n",
       "      <td>0.05</td>\n",
       "      <td>0.00</td>\n",
       "      <td>0</td>\n",
       "    </tr>\n",
       "    <tr>\n",
       "      <th>1</th>\n",
       "      <td>1</td>\n",
       "      <td>0</td>\n",
       "      <td>1</td>\n",
       "      <td>146</td>\n",
       "      <td>0</td>\n",
       "      <td>0</td>\n",
       "      <td>0</td>\n",
       "      <td>0</td>\n",
       "      <td>0</td>\n",
       "      <td>0</td>\n",
       "      <td>...</td>\n",
       "      <td>1</td>\n",
       "      <td>0.00</td>\n",
       "      <td>0.60</td>\n",
       "      <td>0.88</td>\n",
       "      <td>0.00</td>\n",
       "      <td>0.00</td>\n",
       "      <td>0.00</td>\n",
       "      <td>0.00</td>\n",
       "      <td>0.00</td>\n",
       "      <td>0</td>\n",
       "    </tr>\n",
       "    <tr>\n",
       "      <th>2</th>\n",
       "      <td>2</td>\n",
       "      <td>0</td>\n",
       "      <td>0</td>\n",
       "      <td>0</td>\n",
       "      <td>0</td>\n",
       "      <td>0</td>\n",
       "      <td>0</td>\n",
       "      <td>0</td>\n",
       "      <td>0</td>\n",
       "      <td>0</td>\n",
       "      <td>...</td>\n",
       "      <td>26</td>\n",
       "      <td>0.10</td>\n",
       "      <td>0.05</td>\n",
       "      <td>0.00</td>\n",
       "      <td>0.00</td>\n",
       "      <td>1.00</td>\n",
       "      <td>1.00</td>\n",
       "      <td>0.00</td>\n",
       "      <td>0.00</td>\n",
       "      <td>1</td>\n",
       "    </tr>\n",
       "    <tr>\n",
       "      <th>3</th>\n",
       "      <td>3</td>\n",
       "      <td>0</td>\n",
       "      <td>0</td>\n",
       "      <td>232</td>\n",
       "      <td>8153</td>\n",
       "      <td>0</td>\n",
       "      <td>0</td>\n",
       "      <td>0</td>\n",
       "      <td>0</td>\n",
       "      <td>0</td>\n",
       "      <td>...</td>\n",
       "      <td>255</td>\n",
       "      <td>1.00</td>\n",
       "      <td>0.00</td>\n",
       "      <td>0.03</td>\n",
       "      <td>0.04</td>\n",
       "      <td>0.03</td>\n",
       "      <td>0.01</td>\n",
       "      <td>0.00</td>\n",
       "      <td>0.01</td>\n",
       "      <td>0</td>\n",
       "    </tr>\n",
       "    <tr>\n",
       "      <th>4</th>\n",
       "      <td>4</td>\n",
       "      <td>0</td>\n",
       "      <td>0</td>\n",
       "      <td>199</td>\n",
       "      <td>420</td>\n",
       "      <td>0</td>\n",
       "      <td>0</td>\n",
       "      <td>0</td>\n",
       "      <td>0</td>\n",
       "      <td>0</td>\n",
       "      <td>...</td>\n",
       "      <td>255</td>\n",
       "      <td>1.00</td>\n",
       "      <td>0.00</td>\n",
       "      <td>0.00</td>\n",
       "      <td>0.00</td>\n",
       "      <td>0.00</td>\n",
       "      <td>0.00</td>\n",
       "      <td>0.00</td>\n",
       "      <td>0.00</td>\n",
       "      <td>0</td>\n",
       "    </tr>\n",
       "  </tbody>\n",
       "</table>\n",
       "<p>5 rows × 41 columns</p>\n",
       "</div>\n",
       "      <button class=\"colab-df-convert\" onclick=\"convertToInteractive('df-cd85b7bf-c6fe-4b81-a120-11158d0cf95b')\"\n",
       "              title=\"Convert this dataframe to an interactive table.\"\n",
       "              style=\"display:none;\">\n",
       "        \n",
       "  <svg xmlns=\"http://www.w3.org/2000/svg\" height=\"24px\"viewBox=\"0 0 24 24\"\n",
       "       width=\"24px\">\n",
       "    <path d=\"M0 0h24v24H0V0z\" fill=\"none\"/>\n",
       "    <path d=\"M18.56 5.44l.94 2.06.94-2.06 2.06-.94-2.06-.94-.94-2.06-.94 2.06-2.06.94zm-11 1L8.5 8.5l.94-2.06 2.06-.94-2.06-.94L8.5 2.5l-.94 2.06-2.06.94zm10 10l.94 2.06.94-2.06 2.06-.94-2.06-.94-.94-2.06-.94 2.06-2.06.94z\"/><path d=\"M17.41 7.96l-1.37-1.37c-.4-.4-.92-.59-1.43-.59-.52 0-1.04.2-1.43.59L10.3 9.45l-7.72 7.72c-.78.78-.78 2.05 0 2.83L4 21.41c.39.39.9.59 1.41.59.51 0 1.02-.2 1.41-.59l7.78-7.78 2.81-2.81c.8-.78.8-2.07 0-2.86zM5.41 20L4 18.59l7.72-7.72 1.47 1.35L5.41 20z\"/>\n",
       "  </svg>\n",
       "      </button>\n",
       "      \n",
       "  <style>\n",
       "    .colab-df-container {\n",
       "      display:flex;\n",
       "      flex-wrap:wrap;\n",
       "      gap: 12px;\n",
       "    }\n",
       "\n",
       "    .colab-df-convert {\n",
       "      background-color: #E8F0FE;\n",
       "      border: none;\n",
       "      border-radius: 50%;\n",
       "      cursor: pointer;\n",
       "      display: none;\n",
       "      fill: #1967D2;\n",
       "      height: 32px;\n",
       "      padding: 0 0 0 0;\n",
       "      width: 32px;\n",
       "    }\n",
       "\n",
       "    .colab-df-convert:hover {\n",
       "      background-color: #E2EBFA;\n",
       "      box-shadow: 0px 1px 2px rgba(60, 64, 67, 0.3), 0px 1px 3px 1px rgba(60, 64, 67, 0.15);\n",
       "      fill: #174EA6;\n",
       "    }\n",
       "\n",
       "    [theme=dark] .colab-df-convert {\n",
       "      background-color: #3B4455;\n",
       "      fill: #D2E3FC;\n",
       "    }\n",
       "\n",
       "    [theme=dark] .colab-df-convert:hover {\n",
       "      background-color: #434B5C;\n",
       "      box-shadow: 0px 1px 3px 1px rgba(0, 0, 0, 0.15);\n",
       "      filter: drop-shadow(0px 1px 2px rgba(0, 0, 0, 0.3));\n",
       "      fill: #FFFFFF;\n",
       "    }\n",
       "  </style>\n",
       "\n",
       "      <script>\n",
       "        const buttonEl =\n",
       "          document.querySelector('#df-cd85b7bf-c6fe-4b81-a120-11158d0cf95b button.colab-df-convert');\n",
       "        buttonEl.style.display =\n",
       "          google.colab.kernel.accessAllowed ? 'block' : 'none';\n",
       "\n",
       "        async function convertToInteractive(key) {\n",
       "          const element = document.querySelector('#df-cd85b7bf-c6fe-4b81-a120-11158d0cf95b');\n",
       "          const dataTable =\n",
       "            await google.colab.kernel.invokeFunction('convertToInteractive',\n",
       "                                                     [key], {});\n",
       "          if (!dataTable) return;\n",
       "\n",
       "          const docLinkHtml = 'Like what you see? Visit the ' +\n",
       "            '<a target=\"_blank\" href=https://colab.research.google.com/notebooks/data_table.ipynb>data table notebook</a>'\n",
       "            + ' to learn more about interactive tables.';\n",
       "          element.innerHTML = '';\n",
       "          dataTable['output_type'] = 'display_data';\n",
       "          await google.colab.output.renderOutput(dataTable, element);\n",
       "          const docLink = document.createElement('div');\n",
       "          docLink.innerHTML = docLinkHtml;\n",
       "          element.appendChild(docLink);\n",
       "        }\n",
       "      </script>\n",
       "    </div>\n",
       "  </div>\n",
       "  "
      ],
      "text/plain": [
       "   index  duration  protocol_type  src_bytes  dst_bytes  land  wrong_fragment  \\\n",
       "0      0         0              0        491          0     0               0   \n",
       "1      1         0              1        146          0     0               0   \n",
       "2      2         0              0          0          0     0               0   \n",
       "3      3         0              0        232       8153     0               0   \n",
       "4      4         0              0        199        420     0               0   \n",
       "\n",
       "   urgent  hot  num_failed_logins  ...  dst_host_srv_count  \\\n",
       "0       0    0                  0  ...                  25   \n",
       "1       0    0                  0  ...                   1   \n",
       "2       0    0                  0  ...                  26   \n",
       "3       0    0                  0  ...                 255   \n",
       "4       0    0                  0  ...                 255   \n",
       "\n",
       "   dst_host_same_srv_rate  dst_host_diff_srv_rate  \\\n",
       "0                    0.17                    0.03   \n",
       "1                    0.00                    0.60   \n",
       "2                    0.10                    0.05   \n",
       "3                    1.00                    0.00   \n",
       "4                    1.00                    0.00   \n",
       "\n",
       "   dst_host_same_src_port_rate  dst_host_srv_diff_host_rate  \\\n",
       "0                         0.17                         0.00   \n",
       "1                         0.88                         0.00   \n",
       "2                         0.00                         0.00   \n",
       "3                         0.03                         0.04   \n",
       "4                         0.00                         0.00   \n",
       "\n",
       "   dst_host_serror_rate  dst_host_srv_serror_rate  dst_host_rerror_rate  \\\n",
       "0                  0.00                      0.00                  0.05   \n",
       "1                  0.00                      0.00                  0.00   \n",
       "2                  1.00                      1.00                  0.00   \n",
       "3                  0.03                      0.01                  0.00   \n",
       "4                  0.00                      0.00                  0.00   \n",
       "\n",
       "   dst_host_srv_rerror_rate  class  \n",
       "0                      0.00      0  \n",
       "1                      0.00      0  \n",
       "2                      0.00      1  \n",
       "3                      0.01      0  \n",
       "4                      0.00      0  \n",
       "\n",
       "[5 rows x 41 columns]"
      ]
     },
     "execution_count": 7,
     "metadata": {},
     "output_type": "execute_result"
    }
   ],
   "source": [
    "df.replace(('normal','anomaly'),(0,1),inplace=True)\n",
    "df.replace(('tcp','udp','icmp'),(0,1,2),inplace=True)\n",
    "df=df[df.columns.drop('service')]\n",
    "df=df[df.columns.drop('flag')]\n",
    "df.head()"
   ]
  },
  {
   "cell_type": "code",
   "execution_count": 8,
   "metadata": {
    "id": "ZaUjDI4ro-N0"
   },
   "outputs": [],
   "source": [
    "y=df['class']\n",
    "y = np.nan_to_num(y)\n",
    "X=df[df.columns.drop('class')]"
   ]
  },
  {
   "cell_type": "markdown",
   "metadata": {
    "id": "_PIYUCYZLTvr"
   },
   "source": [
    "# **K-FOLD CROSS VALIDATION FUNCTION**"
   ]
  },
  {
   "cell_type": "code",
   "execution_count": 48,
   "metadata": {
    "id": "Sg85Vcqf1pOv"
   },
   "outputs": [],
   "source": [
    "from sklearn.model_selection import cross_validate\n",
    "def cross_validation(model, _X, _y, _cv=5):\n",
    "      '''Function to perform 5 Folds Cross-Validation\n",
    "       Parameters\n",
    "       ----------\n",
    "      model: Python Class, default=None\n",
    "              This is the machine learning algorithm to be used for training.\n",
    "      _X: array\n",
    "           This is the matrix of features.\n",
    "      _y: array\n",
    "           This is the target variable.\n",
    "      _cv: int, default=5\n",
    "          Determines the number of folds for cross-validation.\n",
    "       Returns\n",
    "       -------\n",
    "       The function returns a dictionary containing the metrics 'accuracy', 'precision',\n",
    "       'recall', 'f1' for both training set and validation set.\n",
    "      '''\n",
    "      _scoring = ['accuracy', 'precision', 'recall', 'f1']\n",
    "      results = cross_validate(estimator=model,\n",
    "                               X=_X,\n",
    "                               y=_y,\n",
    "                               cv=_cv,\n",
    "                               scoring=_scoring,\n",
    "                               return_train_score=True)\n",
    "      \n",
    "      return {\"Mean Training Accuracy\": results['train_accuracy'].mean()*100,\n",
    "              \"Mean Training Precision\": results['train_precision'].mean()*100,\n",
    "              \"Mean Training Recall\": results['train_recall'].mean()*100}"
   ]
  },
  {
   "cell_type": "markdown",
   "metadata": {
    "id": "alDcfdB_vUDK"
   },
   "source": [
    "# **APPLYING MRMR FOR FEATURE EXTRACTION**"
   ]
  },
  {
   "cell_type": "code",
   "execution_count": 9,
   "metadata": {
    "colab": {
     "base_uri": "https://localhost:8080/",
     "height": 0
    },
    "id": "ed-bgQ-eogpb",
    "outputId": "b43d88d4-02b2-4615-d4e0-a337853b8f57"
   },
   "outputs": [
    {
     "name": "stdout",
     "output_type": "stream",
     "text": [
      "Looking in indexes: https://pypi.org/simple, https://us-python.pkg.dev/colab-wheels/public/simple/\n",
      "Collecting mrmr_selection\n",
      "  Downloading mrmr_selection-0.2.5-py3-none-any.whl (24 kB)\n",
      "Requirement already satisfied: scipy in /usr/local/lib/python3.7/dist-packages (from mrmr_selection) (1.7.3)\n",
      "Requirement already satisfied: numpy>=1.18.1 in /usr/local/lib/python3.7/dist-packages (from mrmr_selection) (1.21.6)\n",
      "Collecting sklearn\n",
      "  Downloading sklearn-0.0.post1.tar.gz (3.6 kB)\n",
      "Requirement already satisfied: joblib in /usr/local/lib/python3.7/dist-packages (from mrmr_selection) (1.2.0)\n",
      "Collecting category-encoders\n",
      "  Downloading category_encoders-2.5.1.post0-py2.py3-none-any.whl (72 kB)\n",
      "\u001b[K     |████████████████████████████████| 72 kB 763 kB/s \n",
      "\u001b[?25hRequirement already satisfied: pandas>=1.0.3 in /usr/local/lib/python3.7/dist-packages (from mrmr_selection) (1.3.5)\n",
      "Requirement already satisfied: jinja2 in /usr/local/lib/python3.7/dist-packages (from mrmr_selection) (2.11.3)\n",
      "Requirement already satisfied: tqdm in /usr/local/lib/python3.7/dist-packages (from mrmr_selection) (4.64.1)\n",
      "Requirement already satisfied: python-dateutil>=2.7.3 in /usr/local/lib/python3.7/dist-packages (from pandas>=1.0.3->mrmr_selection) (2.8.2)\n",
      "Requirement already satisfied: pytz>=2017.3 in /usr/local/lib/python3.7/dist-packages (from pandas>=1.0.3->mrmr_selection) (2022.6)\n",
      "Requirement already satisfied: six>=1.5 in /usr/local/lib/python3.7/dist-packages (from python-dateutil>=2.7.3->pandas>=1.0.3->mrmr_selection) (1.15.0)\n",
      "Requirement already satisfied: patsy>=0.5.1 in /usr/local/lib/python3.7/dist-packages (from category-encoders->mrmr_selection) (0.5.3)\n",
      "Requirement already satisfied: statsmodels>=0.9.0 in /usr/local/lib/python3.7/dist-packages (from category-encoders->mrmr_selection) (0.12.2)\n",
      "Requirement already satisfied: scikit-learn>=0.20.0 in /usr/local/lib/python3.7/dist-packages (from category-encoders->mrmr_selection) (1.0.2)\n",
      "Requirement already satisfied: threadpoolctl>=2.0.0 in /usr/local/lib/python3.7/dist-packages (from scikit-learn>=0.20.0->category-encoders->mrmr_selection) (3.1.0)\n",
      "Requirement already satisfied: MarkupSafe>=0.23 in /usr/local/lib/python3.7/dist-packages (from jinja2->mrmr_selection) (2.0.1)\n",
      "Building wheels for collected packages: sklearn\n",
      "  Building wheel for sklearn (setup.py) ... \u001b[?25l\u001b[?25hdone\n",
      "  Created wheel for sklearn: filename=sklearn-0.0.post1-py3-none-any.whl size=2344 sha256=8616fa5df9779b204ad013f06b3e03a4881cbe8681c3aa42054ad3d9d493ef12\n",
      "  Stored in directory: /root/.cache/pip/wheels/42/56/cc/4a8bf86613aafd5b7f1b310477667c1fca5c51c3ae4124a003\n",
      "Successfully built sklearn\n",
      "Installing collected packages: sklearn, category-encoders, mrmr-selection\n",
      "Successfully installed category-encoders-2.5.1.post0 mrmr-selection-0.2.5 sklearn-0.0.post1\n"
     ]
    }
   ],
   "source": [
    "!pip install mrmr_selection"
   ]
  },
  {
   "cell_type": "code",
   "execution_count": 10,
   "metadata": {
    "colab": {
     "base_uri": "https://localhost:8080/",
     "height": 0
    },
    "id": "adLwEKAJqPQm",
    "outputId": "e9869c98-12d8-41d5-9a30-42bbb5e7e27d"
   },
   "outputs": [
    {
     "name": "stderr",
     "output_type": "stream",
     "text": [
      "100%|██████████| 10/10 [00:02<00:00,  4.42it/s]\n"
     ]
    }
   ],
   "source": [
    "from mrmr import mrmr_classif\n",
    "selected_features = mrmr_classif(X=X, y=y, K=10)"
   ]
  },
  {
   "cell_type": "code",
   "execution_count": 11,
   "metadata": {
    "colab": {
     "base_uri": "https://localhost:8080/",
     "height": 0
    },
    "id": "P9KZxO6burEY",
    "outputId": "06e0a7f8-f767-45e4-abc4-d11e9bf38a96"
   },
   "outputs": [
    {
     "name": "stdout",
     "output_type": "stream",
     "text": [
      "['same_srv_rate', 'dst_host_srv_count', 'logged_in', 'dst_host_srv_serror_rate', 'dst_host_same_srv_rate', 'serror_rate', 'count', 'dst_host_serror_rate', 'srv_serror_rate', 'dst_host_count']\n"
     ]
    }
   ],
   "source": [
    "print(selected_features)"
   ]
  },
  {
   "cell_type": "code",
   "execution_count": 12,
   "metadata": {
    "colab": {
     "base_uri": "https://localhost:8080/",
     "height": 0
    },
    "id": "pu2ZlBS_u8nB",
    "outputId": "21272937-6f72-4e0d-971d-2c3eab472ff2"
   },
   "outputs": [
    {
     "data": {
      "text/plain": [
       "125973"
      ]
     },
     "execution_count": 12,
     "metadata": {},
     "output_type": "execute_result"
    }
   ],
   "source": [
    "X1=X[selected_features]\n",
    "X1 = np.nan_to_num(X1)\n",
    "len(X1)"
   ]
  },
  {
   "cell_type": "markdown",
   "metadata": {
    "id": "JUKQHzmPvhV3"
   },
   "source": [
    "**5-FOLD CROSS VALIDATION**"
   ]
  },
  {
   "cell_type": "markdown",
   "metadata": {
    "id": "-t8RA5L9MZ_t"
   },
   "source": [
    "DECISION TREE"
   ]
  },
  {
   "cell_type": "code",
   "execution_count": 46,
   "metadata": {
    "colab": {
     "base_uri": "https://localhost:8080/",
     "height": 0
    },
    "id": "y5E6Ehvx1nfx",
    "outputId": "54a7edd6-15cc-4f07-8c3c-ddc6df651d9c"
   },
   "outputs": [
    {
     "name": "stdout",
     "output_type": "stream",
     "text": [
      "{'Mean Training Accuracy': 97.88665025955575, 'Mean Training Precision': 97.79340417479452, 'Mean Training Recall': 97.66288589459322}\n"
     ]
    }
   ],
   "source": [
    "from sklearn.tree import DecisionTreeClassifier\n",
    "decision_tree_model = DecisionTreeClassifier(criterion=\"entropy\",random_state=0)\n",
    "decision_tree_result = cross_validation(decision_tree_model,X1,y,5)\n",
    "print(decision_tree_result)"
   ]
  },
  {
   "cell_type": "markdown",
   "metadata": {
    "id": "4clnovcGMQRP"
   },
   "source": [
    "K-NEAREST NEIGHBOURS"
   ]
  },
  {
   "cell_type": "code",
   "execution_count": 51,
   "metadata": {
    "colab": {
     "base_uri": "https://localhost:8080/",
     "height": 0
    },
    "id": "ktcK_Fa81rjQ",
    "outputId": "825a588c-4dcc-49ba-8148-1f1570a3aff9"
   },
   "outputs": [
    {
     "name": "stdout",
     "output_type": "stream",
     "text": [
      "{'Mean Training Accuracy': 95.91995897061022, 'Mean Training Precision': 95.20009870530448, 'Mean Training Recall': 96.08135766672353}\n"
     ]
    }
   ],
   "source": [
    "from sklearn.neighbors import KNeighborsClassifier\n",
    "knn = KNeighborsClassifier(n_neighbors=7)\n",
    "knn_result = cross_validation(knn,X1,y,5)\n",
    "print(knn_result)"
   ]
  },
  {
   "cell_type": "markdown",
   "metadata": {
    "id": "RJcoBhomNQR_"
   },
   "source": [
    "NAIVE BAYES"
   ]
  },
  {
   "cell_type": "code",
   "execution_count": 52,
   "metadata": {
    "colab": {
     "base_uri": "https://localhost:8080/",
     "height": 0
    },
    "id": "qprVoBC5NUHq",
    "outputId": "7ea7f597-b999-4694-d1fa-8470f187df95"
   },
   "outputs": [
    {
     "name": "stdout",
     "output_type": "stream",
     "text": [
      "{'Mean Training Accuracy': 88.37945437843976, 'Mean Training Precision': 93.8765184014207, 'Mean Training Recall': 80.26778099948831}\n"
     ]
    }
   ],
   "source": [
    "from sklearn.naive_bayes import GaussianNB\n",
    "gnb = GaussianNB()\n",
    "nb_result = cross_validation(gnb,X1,y,5)\n",
    "print(nb_result)"
   ]
  },
  {
   "cell_type": "markdown",
   "metadata": {
    "id": "bzU93d6tNvRK"
   },
   "source": [
    "**10-FOLD CROSS VALIDATION**"
   ]
  },
  {
   "cell_type": "markdown",
   "metadata": {
    "id": "0D4gb5wwN3ZQ"
   },
   "source": [
    "DECISION TREE"
   ]
  },
  {
   "cell_type": "code",
   "execution_count": 53,
   "metadata": {
    "colab": {
     "base_uri": "https://localhost:8080/",
     "height": 0
    },
    "id": "ZZ3f48gTN3ZQ",
    "outputId": "baca6c70-0ff5-4cb7-bdd5-c18c97f37573"
   },
   "outputs": [
    {
     "name": "stdout",
     "output_type": "stream",
     "text": [
      "{'Mean Training Accuracy': 97.8418655953429, 'Mean Training Precision': 97.72459293718677, 'Mean Training Recall': 97.63640153884057}\n"
     ]
    }
   ],
   "source": [
    "from sklearn.tree import DecisionTreeClassifier\n",
    "decision_tree_model = DecisionTreeClassifier(criterion=\"entropy\",random_state=0)\n",
    "decision_tree_result = cross_validation(decision_tree_model,X1,y,10)\n",
    "print(decision_tree_result)"
   ]
  },
  {
   "cell_type": "markdown",
   "metadata": {
    "id": "uvmkaQmoN3ZQ"
   },
   "source": [
    "K-NEAREST NEIGHBOURS"
   ]
  },
  {
   "cell_type": "code",
   "execution_count": 54,
   "metadata": {
    "colab": {
     "base_uri": "https://localhost:8080/",
     "height": 0
    },
    "id": "WdBwq_z2N3ZR",
    "outputId": "22f36582-d2a3-400d-e0cf-d409a56cb905"
   },
   "outputs": [
    {
     "name": "stdout",
     "output_type": "stream",
     "text": [
      "{'Mean Training Accuracy': 95.96694881999414, 'Mean Training Precision': 95.16636841475587, 'Mean Training Recall': 96.22358671139159}\n"
     ]
    }
   ],
   "source": [
    "from sklearn.neighbors import KNeighborsClassifier\n",
    "knn = KNeighborsClassifier(n_neighbors=7)\n",
    "knn_result = cross_validation(knn,X1,y,10)\n",
    "print(knn_result)"
   ]
  },
  {
   "cell_type": "markdown",
   "metadata": {
    "id": "TQL5UbA4N3ZR"
   },
   "source": [
    "NAIVE BAYES"
   ]
  },
  {
   "cell_type": "code",
   "execution_count": 55,
   "metadata": {
    "colab": {
     "base_uri": "https://localhost:8080/",
     "height": 0
    },
    "id": "M4Fk8KXtN3ZR",
    "outputId": "d9db8d25-deaf-4faf-e318-0b16286e8df9"
   },
   "outputs": [
    {
     "name": "stdout",
     "output_type": "stream",
     "text": [
      "{'Mean Training Accuracy': 88.37740367281664, 'Mean Training Precision': 93.87148801286529, 'Mean Training Recall': 80.26797051187295}\n"
     ]
    }
   ],
   "source": [
    "from sklearn.naive_bayes import GaussianNB\n",
    "gnb = GaussianNB()\n",
    "nb_result = cross_validation(gnb,X1,y,10)\n",
    "print(nb_result)"
   ]
  },
  {
   "cell_type": "markdown",
   "metadata": {
    "id": "Bl-ej6RNOw5Q"
   },
   "source": [
    "**15-FOLD CROSS VALIDATION**"
   ]
  },
  {
   "cell_type": "markdown",
   "metadata": {
    "id": "VyYOYGQ-Ow5Q"
   },
   "source": [
    "DECISION TREE"
   ]
  },
  {
   "cell_type": "code",
   "execution_count": 56,
   "metadata": {
    "colab": {
     "base_uri": "https://localhost:8080/",
     "height": 0
    },
    "id": "ALg6-LkEOw5R",
    "outputId": "b9ac613a-227c-4ef6-b651-a7e8e1f21e0a"
   },
   "outputs": [
    {
     "name": "stdout",
     "output_type": "stream",
     "text": [
      "{'Mean Training Accuracy': 97.8283895286144, 'Mean Training Precision': 97.69755364941946, 'Mean Training Recall': 97.6350479262702}\n"
     ]
    }
   ],
   "source": [
    "from sklearn.tree import DecisionTreeClassifier\n",
    "decision_tree_model = DecisionTreeClassifier(criterion=\"entropy\",random_state=0)\n",
    "decision_tree_result = cross_validation(decision_tree_model,X1,y,15)\n",
    "print(decision_tree_result)"
   ]
  },
  {
   "cell_type": "markdown",
   "metadata": {
    "id": "QwEXo4eFOw5R"
   },
   "source": [
    "K-NEAREST NEIGHBOURS"
   ]
  },
  {
   "cell_type": "code",
   "execution_count": 57,
   "metadata": {
    "colab": {
     "base_uri": "https://localhost:8080/",
     "height": 0
    },
    "id": "vpWPTE-8Ow5R",
    "outputId": "ec7e75dd-62c8-45f2-9e83-487b96b3f22e"
   },
   "outputs": [
    {
     "name": "stdout",
     "output_type": "stream",
     "text": [
      "{'Mean Training Accuracy': 95.97300329787313, 'Mean Training Precision': 95.14212770466028, 'Mean Training Recall': 96.26397944802746}\n"
     ]
    }
   ],
   "source": [
    "from sklearn.neighbors import KNeighborsClassifier\n",
    "knn = KNeighborsClassifier(n_neighbors=7)\n",
    "knn_result = cross_validation(knn,X1,y,15)\n",
    "print(knn_result)"
   ]
  },
  {
   "cell_type": "markdown",
   "metadata": {
    "id": "AjRbpFMZOw5R"
   },
   "source": [
    "NAIVE BAYES"
   ]
  },
  {
   "cell_type": "code",
   "execution_count": 58,
   "metadata": {
    "colab": {
     "base_uri": "https://localhost:8080/",
     "height": 0
    },
    "id": "tlI49Ki2Ow5R",
    "outputId": "9cdeee4e-6acf-4959-8ff8-4bc26377e99a"
   },
   "outputs": [
    {
     "name": "stdout",
     "output_type": "stream",
     "text": [
      "{'Mean Training Accuracy': 88.37846208163992, 'Mean Training Precision': 93.87204808199594, 'Mean Training Recall': 80.26985213550407}\n"
     ]
    }
   ],
   "source": [
    "from sklearn.naive_bayes import GaussianNB\n",
    "gnb = GaussianNB()\n",
    "nb_result = cross_validation(gnb,X1,y,15)\n",
    "print(nb_result)"
   ]
  },
  {
   "cell_type": "markdown",
   "metadata": {
    "id": "dejfeA1c1mMh"
   },
   "source": [
    "# **APPLYING LASSO FOR FEATURE EXTRACTION**"
   ]
  },
  {
   "cell_type": "code",
   "execution_count": 16,
   "metadata": {
    "id": "b5r1XYVw1zNc"
   },
   "outputs": [],
   "source": [
    "from sklearn.preprocessing import StandardScaler\n",
    "from sklearn.pipeline import Pipeline\n",
    "from sklearn.model_selection import train_test_split, GridSearchCV\n",
    "from sklearn.linear_model import Lasso"
   ]
  },
  {
   "cell_type": "code",
   "execution_count": 17,
   "metadata": {
    "id": "Ne0lUUEQ2uXm"
   },
   "outputs": [],
   "source": [
    "X= np.nan_to_num(X)"
   ]
  },
  {
   "cell_type": "code",
   "execution_count": 18,
   "metadata": {
    "id": "7od__vdR17mp"
   },
   "outputs": [],
   "source": [
    "X_train, X_test, y_train, y_test = train_test_split(X, y, test_size=0.33, random_state=42)"
   ]
  },
  {
   "cell_type": "code",
   "execution_count": 19,
   "metadata": {
    "id": "uZ7PE7_22KSc"
   },
   "outputs": [],
   "source": [
    "pipeline = Pipeline([('scaler',StandardScaler()),('model',Lasso())])"
   ]
  },
  {
   "cell_type": "code",
   "execution_count": 20,
   "metadata": {
    "id": "dNEunwZi2XJy"
   },
   "outputs": [],
   "source": [
    "search = GridSearchCV(pipeline,{'model__alpha':np.arange(0.1,10,0.1)},\n",
    "                      cv = 5, scoring=\"neg_mean_squared_error\",verbose=3)"
   ]
  },
  {
   "cell_type": "code",
   "execution_count": 21,
   "metadata": {
    "colab": {
     "base_uri": "https://localhost:8080/",
     "height": 0
    },
    "id": "AU1OW4eT2bAS",
    "outputId": "9659b8d4-21af-4b9e-cabf-fa898ee1ecdf"
   },
   "outputs": [
    {
     "name": "stdout",
     "output_type": "stream",
     "text": [
      "Fitting 5 folds for each of 99 candidates, totalling 495 fits\n",
      "[CV 1/5] END .................model__alpha=0.1;, score=-0.090 total time=   0.5s\n",
      "[CV 2/5] END .................model__alpha=0.1;, score=-0.089 total time=   0.3s\n",
      "[CV 3/5] END .................model__alpha=0.1;, score=-0.089 total time=   0.4s\n",
      "[CV 4/5] END .................model__alpha=0.1;, score=-0.089 total time=   0.3s\n",
      "[CV 5/5] END .................model__alpha=0.1;, score=-0.090 total time=   0.2s\n",
      "[CV 1/5] END .................model__alpha=0.2;, score=-0.131 total time=   0.2s\n",
      "[CV 2/5] END .................model__alpha=0.2;, score=-0.130 total time=   0.1s\n",
      "[CV 3/5] END .................model__alpha=0.2;, score=-0.130 total time=   0.1s\n",
      "[CV 4/5] END .................model__alpha=0.2;, score=-0.131 total time=   0.1s\n",
      "[CV 5/5] END .................model__alpha=0.2;, score=-0.131 total time=   0.1s\n",
      "[CV 1/5] END .model__alpha=0.30000000000000004;, score=-0.195 total time=   0.2s\n",
      "[CV 2/5] END .model__alpha=0.30000000000000004;, score=-0.195 total time=   0.1s\n",
      "[CV 3/5] END .model__alpha=0.30000000000000004;, score=-0.195 total time=   0.1s\n",
      "[CV 4/5] END .model__alpha=0.30000000000000004;, score=-0.195 total time=   0.1s\n",
      "[CV 5/5] END .model__alpha=0.30000000000000004;, score=-0.195 total time=   0.1s\n",
      "[CV 1/5] END .................model__alpha=0.4;, score=-0.249 total time=   0.1s\n",
      "[CV 2/5] END .................model__alpha=0.4;, score=-0.248 total time=   0.1s\n",
      "[CV 3/5] END .................model__alpha=0.4;, score=-0.249 total time=   0.1s\n",
      "[CV 4/5] END .................model__alpha=0.4;, score=-0.249 total time=   0.1s\n",
      "[CV 5/5] END .................model__alpha=0.4;, score=-0.249 total time=   0.1s\n",
      "[CV 1/5] END .................model__alpha=0.5;, score=-0.249 total time=   0.1s\n",
      "[CV 2/5] END .................model__alpha=0.5;, score=-0.248 total time=   0.1s\n",
      "[CV 3/5] END .................model__alpha=0.5;, score=-0.249 total time=   0.1s\n",
      "[CV 4/5] END .................model__alpha=0.5;, score=-0.249 total time=   0.1s\n",
      "[CV 5/5] END .................model__alpha=0.5;, score=-0.249 total time=   0.1s\n",
      "[CV 1/5] END .................model__alpha=0.6;, score=-0.249 total time=   0.2s\n",
      "[CV 2/5] END .................model__alpha=0.6;, score=-0.248 total time=   0.2s\n",
      "[CV 3/5] END .................model__alpha=0.6;, score=-0.249 total time=   0.1s\n",
      "[CV 4/5] END .................model__alpha=0.6;, score=-0.249 total time=   0.1s\n",
      "[CV 5/5] END .................model__alpha=0.6;, score=-0.249 total time=   0.1s\n",
      "[CV 1/5] END ..model__alpha=0.7000000000000001;, score=-0.249 total time=   0.1s\n",
      "[CV 2/5] END ..model__alpha=0.7000000000000001;, score=-0.248 total time=   0.1s\n",
      "[CV 3/5] END ..model__alpha=0.7000000000000001;, score=-0.249 total time=   0.1s\n",
      "[CV 4/5] END ..model__alpha=0.7000000000000001;, score=-0.249 total time=   0.1s\n",
      "[CV 5/5] END ..model__alpha=0.7000000000000001;, score=-0.249 total time=   0.1s\n",
      "[CV 1/5] END .................model__alpha=0.8;, score=-0.249 total time=   0.1s\n",
      "[CV 2/5] END .................model__alpha=0.8;, score=-0.248 total time=   0.1s\n",
      "[CV 3/5] END .................model__alpha=0.8;, score=-0.249 total time=   0.1s\n",
      "[CV 4/5] END .................model__alpha=0.8;, score=-0.249 total time=   0.1s\n",
      "[CV 5/5] END .................model__alpha=0.8;, score=-0.249 total time=   0.1s\n",
      "[CV 1/5] END .................model__alpha=0.9;, score=-0.249 total time=   0.1s\n",
      "[CV 2/5] END .................model__alpha=0.9;, score=-0.248 total time=   0.1s\n",
      "[CV 3/5] END .................model__alpha=0.9;, score=-0.249 total time=   0.1s\n",
      "[CV 4/5] END .................model__alpha=0.9;, score=-0.249 total time=   0.1s\n",
      "[CV 5/5] END .................model__alpha=0.9;, score=-0.249 total time=   0.1s\n",
      "[CV 1/5] END .................model__alpha=1.0;, score=-0.249 total time=   0.1s\n",
      "[CV 2/5] END .................model__alpha=1.0;, score=-0.248 total time=   0.1s\n",
      "[CV 3/5] END .................model__alpha=1.0;, score=-0.249 total time=   0.1s\n",
      "[CV 4/5] END .................model__alpha=1.0;, score=-0.249 total time=   0.1s\n",
      "[CV 5/5] END .................model__alpha=1.0;, score=-0.249 total time=   0.1s\n",
      "[CV 1/5] END .................model__alpha=1.1;, score=-0.249 total time=   0.1s\n",
      "[CV 2/5] END .................model__alpha=1.1;, score=-0.248 total time=   0.1s\n",
      "[CV 3/5] END .................model__alpha=1.1;, score=-0.249 total time=   0.1s\n",
      "[CV 4/5] END .................model__alpha=1.1;, score=-0.249 total time=   0.1s\n",
      "[CV 5/5] END .................model__alpha=1.1;, score=-0.249 total time=   0.1s\n",
      "[CV 1/5] END ..model__alpha=1.2000000000000002;, score=-0.249 total time=   0.1s\n",
      "[CV 2/5] END ..model__alpha=1.2000000000000002;, score=-0.248 total time=   0.1s\n",
      "[CV 3/5] END ..model__alpha=1.2000000000000002;, score=-0.249 total time=   0.1s\n",
      "[CV 4/5] END ..model__alpha=1.2000000000000002;, score=-0.249 total time=   0.1s\n",
      "[CV 5/5] END ..model__alpha=1.2000000000000002;, score=-0.249 total time=   0.1s\n",
      "[CV 1/5] END ..model__alpha=1.3000000000000003;, score=-0.249 total time=   0.1s\n",
      "[CV 2/5] END ..model__alpha=1.3000000000000003;, score=-0.248 total time=   0.1s\n",
      "[CV 3/5] END ..model__alpha=1.3000000000000003;, score=-0.249 total time=   0.2s\n",
      "[CV 4/5] END ..model__alpha=1.3000000000000003;, score=-0.249 total time=   0.2s\n",
      "[CV 5/5] END ..model__alpha=1.3000000000000003;, score=-0.249 total time=   0.1s\n",
      "[CV 1/5] END ..model__alpha=1.4000000000000001;, score=-0.249 total time=   0.1s\n",
      "[CV 2/5] END ..model__alpha=1.4000000000000001;, score=-0.248 total time=   0.2s\n",
      "[CV 3/5] END ..model__alpha=1.4000000000000001;, score=-0.249 total time=   0.2s\n",
      "[CV 4/5] END ..model__alpha=1.4000000000000001;, score=-0.249 total time=   0.2s\n",
      "[CV 5/5] END ..model__alpha=1.4000000000000001;, score=-0.249 total time=   0.2s\n",
      "[CV 1/5] END ..model__alpha=1.5000000000000002;, score=-0.249 total time=   0.1s\n",
      "[CV 2/5] END ..model__alpha=1.5000000000000002;, score=-0.248 total time=   0.2s\n",
      "[CV 3/5] END ..model__alpha=1.5000000000000002;, score=-0.249 total time=   0.2s\n",
      "[CV 4/5] END ..model__alpha=1.5000000000000002;, score=-0.249 total time=   0.2s\n",
      "[CV 5/5] END ..model__alpha=1.5000000000000002;, score=-0.249 total time=   0.1s\n",
      "[CV 1/5] END .................model__alpha=1.6;, score=-0.249 total time=   0.2s\n",
      "[CV 2/5] END .................model__alpha=1.6;, score=-0.248 total time=   0.1s\n",
      "[CV 3/5] END .................model__alpha=1.6;, score=-0.249 total time=   0.2s\n",
      "[CV 4/5] END .................model__alpha=1.6;, score=-0.249 total time=   0.2s\n",
      "[CV 5/5] END .................model__alpha=1.6;, score=-0.249 total time=   0.2s\n",
      "[CV 1/5] END ..model__alpha=1.7000000000000002;, score=-0.249 total time=   0.2s\n",
      "[CV 2/5] END ..model__alpha=1.7000000000000002;, score=-0.248 total time=   0.2s\n",
      "[CV 3/5] END ..model__alpha=1.7000000000000002;, score=-0.249 total time=   0.2s\n",
      "[CV 4/5] END ..model__alpha=1.7000000000000002;, score=-0.249 total time=   0.1s\n",
      "[CV 5/5] END ..model__alpha=1.7000000000000002;, score=-0.249 total time=   0.2s\n",
      "[CV 1/5] END ..model__alpha=1.8000000000000003;, score=-0.249 total time=   0.2s\n",
      "[CV 2/5] END ..model__alpha=1.8000000000000003;, score=-0.248 total time=   0.2s\n",
      "[CV 3/5] END ..model__alpha=1.8000000000000003;, score=-0.249 total time=   0.2s\n",
      "[CV 4/5] END ..model__alpha=1.8000000000000003;, score=-0.249 total time=   0.1s\n",
      "[CV 5/5] END ..model__alpha=1.8000000000000003;, score=-0.249 total time=   0.2s\n",
      "[CV 1/5] END ..model__alpha=1.9000000000000001;, score=-0.249 total time=   0.2s\n",
      "[CV 2/5] END ..model__alpha=1.9000000000000001;, score=-0.248 total time=   0.2s\n",
      "[CV 3/5] END ..model__alpha=1.9000000000000001;, score=-0.249 total time=   0.2s\n",
      "[CV 4/5] END ..model__alpha=1.9000000000000001;, score=-0.249 total time=   0.3s\n",
      "[CV 5/5] END ..model__alpha=1.9000000000000001;, score=-0.249 total time=   0.2s\n",
      "[CV 1/5] END .................model__alpha=2.0;, score=-0.249 total time=   0.2s\n",
      "[CV 2/5] END .................model__alpha=2.0;, score=-0.248 total time=   0.2s\n",
      "[CV 3/5] END .................model__alpha=2.0;, score=-0.249 total time=   0.2s\n",
      "[CV 4/5] END .................model__alpha=2.0;, score=-0.249 total time=   0.2s\n",
      "[CV 5/5] END .................model__alpha=2.0;, score=-0.249 total time=   0.1s\n",
      "[CV 1/5] END .................model__alpha=2.1;, score=-0.249 total time=   0.2s\n",
      "[CV 2/5] END .................model__alpha=2.1;, score=-0.248 total time=   0.3s\n",
      "[CV 3/5] END .................model__alpha=2.1;, score=-0.249 total time=   0.2s\n",
      "[CV 4/5] END .................model__alpha=2.1;, score=-0.249 total time=   0.1s\n",
      "[CV 5/5] END .................model__alpha=2.1;, score=-0.249 total time=   0.1s\n",
      "[CV 1/5] END .................model__alpha=2.2;, score=-0.249 total time=   0.2s\n",
      "[CV 2/5] END .................model__alpha=2.2;, score=-0.248 total time=   0.2s\n",
      "[CV 3/5] END .................model__alpha=2.2;, score=-0.249 total time=   0.3s\n",
      "[CV 4/5] END .................model__alpha=2.2;, score=-0.249 total time=   0.2s\n",
      "[CV 5/5] END .................model__alpha=2.2;, score=-0.249 total time=   0.2s\n",
      "[CV 1/5] END ..model__alpha=2.3000000000000003;, score=-0.249 total time=   0.2s\n",
      "[CV 2/5] END ..model__alpha=2.3000000000000003;, score=-0.248 total time=   0.2s\n",
      "[CV 3/5] END ..model__alpha=2.3000000000000003;, score=-0.249 total time=   0.2s\n",
      "[CV 4/5] END ..model__alpha=2.3000000000000003;, score=-0.249 total time=   0.2s\n",
      "[CV 5/5] END ..model__alpha=2.3000000000000003;, score=-0.249 total time=   0.2s\n",
      "[CV 1/5] END ..model__alpha=2.4000000000000004;, score=-0.249 total time=   0.2s\n",
      "[CV 2/5] END ..model__alpha=2.4000000000000004;, score=-0.248 total time=   0.2s\n",
      "[CV 3/5] END ..model__alpha=2.4000000000000004;, score=-0.249 total time=   0.2s\n",
      "[CV 4/5] END ..model__alpha=2.4000000000000004;, score=-0.249 total time=   0.2s\n",
      "[CV 5/5] END ..model__alpha=2.4000000000000004;, score=-0.249 total time=   0.2s\n",
      "[CV 1/5] END ..model__alpha=2.5000000000000004;, score=-0.249 total time=   0.2s\n",
      "[CV 2/5] END ..model__alpha=2.5000000000000004;, score=-0.248 total time=   0.3s\n",
      "[CV 3/5] END ..model__alpha=2.5000000000000004;, score=-0.249 total time=   0.2s\n",
      "[CV 4/5] END ..model__alpha=2.5000000000000004;, score=-0.249 total time=   0.2s\n",
      "[CV 5/5] END ..model__alpha=2.5000000000000004;, score=-0.249 total time=   0.2s\n",
      "[CV 1/5] END .................model__alpha=2.6;, score=-0.249 total time=   0.2s\n",
      "[CV 2/5] END .................model__alpha=2.6;, score=-0.248 total time=   0.3s\n",
      "[CV 3/5] END .................model__alpha=2.6;, score=-0.249 total time=   0.1s\n",
      "[CV 4/5] END .................model__alpha=2.6;, score=-0.249 total time=   0.2s\n",
      "[CV 5/5] END .................model__alpha=2.6;, score=-0.249 total time=   0.1s\n",
      "[CV 1/5] END .................model__alpha=2.7;, score=-0.249 total time=   0.2s\n",
      "[CV 2/5] END .................model__alpha=2.7;, score=-0.248 total time=   0.2s\n",
      "[CV 3/5] END .................model__alpha=2.7;, score=-0.249 total time=   0.2s\n",
      "[CV 4/5] END .................model__alpha=2.7;, score=-0.249 total time=   0.2s\n",
      "[CV 5/5] END .................model__alpha=2.7;, score=-0.249 total time=   0.2s\n",
      "[CV 1/5] END ..model__alpha=2.8000000000000003;, score=-0.249 total time=   0.2s\n",
      "[CV 2/5] END ..model__alpha=2.8000000000000003;, score=-0.248 total time=   0.2s\n",
      "[CV 3/5] END ..model__alpha=2.8000000000000003;, score=-0.249 total time=   0.2s\n",
      "[CV 4/5] END ..model__alpha=2.8000000000000003;, score=-0.249 total time=   0.2s\n",
      "[CV 5/5] END ..model__alpha=2.8000000000000003;, score=-0.249 total time=   0.1s\n",
      "[CV 1/5] END ..model__alpha=2.9000000000000004;, score=-0.249 total time=   0.2s\n",
      "[CV 2/5] END ..model__alpha=2.9000000000000004;, score=-0.248 total time=   0.2s\n",
      "[CV 3/5] END ..model__alpha=2.9000000000000004;, score=-0.249 total time=   0.2s\n",
      "[CV 4/5] END ..model__alpha=2.9000000000000004;, score=-0.249 total time=   0.3s\n",
      "[CV 5/5] END ..model__alpha=2.9000000000000004;, score=-0.249 total time=   0.3s\n",
      "[CV 1/5] END ..model__alpha=3.0000000000000004;, score=-0.249 total time=   0.2s\n",
      "[CV 2/5] END ..model__alpha=3.0000000000000004;, score=-0.248 total time=   0.2s\n",
      "[CV 3/5] END ..model__alpha=3.0000000000000004;, score=-0.249 total time=   0.2s\n",
      "[CV 4/5] END ..model__alpha=3.0000000000000004;, score=-0.249 total time=   0.2s\n",
      "[CV 5/5] END ..model__alpha=3.0000000000000004;, score=-0.249 total time=   0.2s\n",
      "[CV 1/5] END .................model__alpha=3.1;, score=-0.249 total time=   0.2s\n",
      "[CV 2/5] END .................model__alpha=3.1;, score=-0.248 total time=   0.2s\n",
      "[CV 3/5] END .................model__alpha=3.1;, score=-0.249 total time=   0.2s\n",
      "[CV 4/5] END .................model__alpha=3.1;, score=-0.249 total time=   0.3s\n",
      "[CV 5/5] END .................model__alpha=3.1;, score=-0.249 total time=   0.2s\n",
      "[CV 1/5] END .................model__alpha=3.2;, score=-0.249 total time=   0.2s\n",
      "[CV 2/5] END .................model__alpha=3.2;, score=-0.248 total time=   0.2s\n",
      "[CV 3/5] END .................model__alpha=3.2;, score=-0.249 total time=   0.2s\n",
      "[CV 4/5] END .................model__alpha=3.2;, score=-0.249 total time=   0.2s\n",
      "[CV 5/5] END .................model__alpha=3.2;, score=-0.249 total time=   0.2s\n",
      "[CV 1/5] END ..model__alpha=3.3000000000000003;, score=-0.249 total time=   0.2s\n",
      "[CV 2/5] END ..model__alpha=3.3000000000000003;, score=-0.248 total time=   0.2s\n",
      "[CV 3/5] END ..model__alpha=3.3000000000000003;, score=-0.249 total time=   0.2s\n",
      "[CV 4/5] END ..model__alpha=3.3000000000000003;, score=-0.249 total time=   0.2s\n",
      "[CV 5/5] END ..model__alpha=3.3000000000000003;, score=-0.249 total time=   0.3s\n",
      "[CV 1/5] END ..model__alpha=3.4000000000000004;, score=-0.249 total time=   0.2s\n",
      "[CV 2/5] END ..model__alpha=3.4000000000000004;, score=-0.248 total time=   0.4s\n",
      "[CV 3/5] END ..model__alpha=3.4000000000000004;, score=-0.249 total time=   0.4s\n",
      "[CV 4/5] END ..model__alpha=3.4000000000000004;, score=-0.249 total time=   0.3s\n",
      "[CV 5/5] END ..model__alpha=3.4000000000000004;, score=-0.249 total time=   0.1s\n",
      "[CV 1/5] END ..model__alpha=3.5000000000000004;, score=-0.249 total time=   0.2s\n",
      "[CV 2/5] END ..model__alpha=3.5000000000000004;, score=-0.248 total time=   0.3s\n",
      "[CV 3/5] END ..model__alpha=3.5000000000000004;, score=-0.249 total time=   0.4s\n",
      "[CV 4/5] END ..model__alpha=3.5000000000000004;, score=-0.249 total time=   0.2s\n",
      "[CV 5/5] END ..model__alpha=3.5000000000000004;, score=-0.249 total time=   0.2s\n",
      "[CV 1/5] END .................model__alpha=3.6;, score=-0.249 total time=   0.2s\n",
      "[CV 2/5] END .................model__alpha=3.6;, score=-0.248 total time=   0.3s\n",
      "[CV 3/5] END .................model__alpha=3.6;, score=-0.249 total time=   0.2s\n",
      "[CV 4/5] END .................model__alpha=3.6;, score=-0.249 total time=   0.2s\n",
      "[CV 5/5] END .................model__alpha=3.6;, score=-0.249 total time=   0.2s\n",
      "[CV 1/5] END .................model__alpha=3.7;, score=-0.249 total time=   0.1s\n",
      "[CV 2/5] END .................model__alpha=3.7;, score=-0.248 total time=   0.3s\n",
      "[CV 3/5] END .................model__alpha=3.7;, score=-0.249 total time=   0.4s\n",
      "[CV 4/5] END .................model__alpha=3.7;, score=-0.249 total time=   0.3s\n",
      "[CV 5/5] END .................model__alpha=3.7;, score=-0.249 total time=   0.2s\n",
      "[CV 1/5] END ..model__alpha=3.8000000000000003;, score=-0.249 total time=   0.2s\n",
      "[CV 2/5] END ..model__alpha=3.8000000000000003;, score=-0.248 total time=   0.2s\n",
      "[CV 3/5] END ..model__alpha=3.8000000000000003;, score=-0.249 total time=   0.2s\n",
      "[CV 4/5] END ..model__alpha=3.8000000000000003;, score=-0.249 total time=   0.2s\n",
      "[CV 5/5] END ..model__alpha=3.8000000000000003;, score=-0.249 total time=   0.2s\n",
      "[CV 1/5] END ..model__alpha=3.9000000000000004;, score=-0.249 total time=   0.2s\n",
      "[CV 2/5] END ..model__alpha=3.9000000000000004;, score=-0.248 total time=   0.2s\n",
      "[CV 3/5] END ..model__alpha=3.9000000000000004;, score=-0.249 total time=   0.2s\n",
      "[CV 4/5] END ..model__alpha=3.9000000000000004;, score=-0.249 total time=   0.2s\n",
      "[CV 5/5] END ..model__alpha=3.9000000000000004;, score=-0.249 total time=   0.2s\n",
      "[CV 1/5] END .................model__alpha=4.0;, score=-0.249 total time=   0.2s\n",
      "[CV 2/5] END .................model__alpha=4.0;, score=-0.248 total time=   0.2s\n",
      "[CV 3/5] END .................model__alpha=4.0;, score=-0.249 total time=   0.2s\n",
      "[CV 4/5] END .................model__alpha=4.0;, score=-0.249 total time=   0.2s\n",
      "[CV 5/5] END .................model__alpha=4.0;, score=-0.249 total time=   0.2s\n",
      "[CV 1/5] END .................model__alpha=4.1;, score=-0.249 total time=   0.3s\n",
      "[CV 2/5] END .................model__alpha=4.1;, score=-0.248 total time=   0.2s\n",
      "[CV 3/5] END .................model__alpha=4.1;, score=-0.249 total time=   0.2s\n",
      "[CV 4/5] END .................model__alpha=4.1;, score=-0.249 total time=   0.2s\n",
      "[CV 5/5] END .................model__alpha=4.1;, score=-0.249 total time=   0.2s\n",
      "[CV 1/5] END .................model__alpha=4.2;, score=-0.249 total time=   0.1s\n",
      "[CV 2/5] END .................model__alpha=4.2;, score=-0.248 total time=   0.2s\n",
      "[CV 3/5] END .................model__alpha=4.2;, score=-0.249 total time=   0.2s\n",
      "[CV 4/5] END .................model__alpha=4.2;, score=-0.249 total time=   0.2s\n",
      "[CV 5/5] END .................model__alpha=4.2;, score=-0.249 total time=   0.1s\n",
      "[CV 1/5] END .................model__alpha=4.3;, score=-0.249 total time=   0.3s\n",
      "[CV 2/5] END .................model__alpha=4.3;, score=-0.248 total time=   0.2s\n",
      "[CV 3/5] END .................model__alpha=4.3;, score=-0.249 total time=   0.2s\n",
      "[CV 4/5] END .................model__alpha=4.3;, score=-0.249 total time=   0.1s\n",
      "[CV 5/5] END .................model__alpha=4.3;, score=-0.249 total time=   0.2s\n",
      "[CV 1/5] END ..model__alpha=4.3999999999999995;, score=-0.249 total time=   0.2s\n",
      "[CV 2/5] END ..model__alpha=4.3999999999999995;, score=-0.248 total time=   0.2s\n",
      "[CV 3/5] END ..model__alpha=4.3999999999999995;, score=-0.249 total time=   0.2s\n",
      "[CV 4/5] END ..model__alpha=4.3999999999999995;, score=-0.249 total time=   0.1s\n",
      "[CV 5/5] END ..model__alpha=4.3999999999999995;, score=-0.249 total time=   0.2s\n",
      "[CV 1/5] END .................model__alpha=4.5;, score=-0.249 total time=   0.1s\n",
      "[CV 2/5] END .................model__alpha=4.5;, score=-0.248 total time=   0.2s\n",
      "[CV 3/5] END .................model__alpha=4.5;, score=-0.249 total time=   0.2s\n",
      "[CV 4/5] END .................model__alpha=4.5;, score=-0.249 total time=   0.2s\n",
      "[CV 5/5] END .................model__alpha=4.5;, score=-0.249 total time=   0.2s\n",
      "[CV 1/5] END .................model__alpha=4.6;, score=-0.249 total time=   0.2s\n",
      "[CV 2/5] END .................model__alpha=4.6;, score=-0.248 total time=   0.2s\n",
      "[CV 3/5] END .................model__alpha=4.6;, score=-0.249 total time=   0.2s\n",
      "[CV 4/5] END .................model__alpha=4.6;, score=-0.249 total time=   0.2s\n",
      "[CV 5/5] END .................model__alpha=4.6;, score=-0.249 total time=   0.2s\n",
      "[CV 1/5] END .................model__alpha=4.7;, score=-0.249 total time=   0.1s\n",
      "[CV 2/5] END .................model__alpha=4.7;, score=-0.248 total time=   0.2s\n",
      "[CV 3/5] END .................model__alpha=4.7;, score=-0.249 total time=   0.2s\n",
      "[CV 4/5] END .................model__alpha=4.7;, score=-0.249 total time=   0.2s\n",
      "[CV 5/5] END .................model__alpha=4.7;, score=-0.249 total time=   0.2s\n",
      "[CV 1/5] END .................model__alpha=4.8;, score=-0.249 total time=   0.2s\n",
      "[CV 2/5] END .................model__alpha=4.8;, score=-0.248 total time=   0.2s\n",
      "[CV 3/5] END .................model__alpha=4.8;, score=-0.249 total time=   0.2s\n",
      "[CV 4/5] END .................model__alpha=4.8;, score=-0.249 total time=   0.3s\n",
      "[CV 5/5] END .................model__alpha=4.8;, score=-0.249 total time=   0.2s\n",
      "[CV 1/5] END .................model__alpha=4.9;, score=-0.249 total time=   0.2s\n",
      "[CV 2/5] END .................model__alpha=4.9;, score=-0.248 total time=   0.2s\n",
      "[CV 3/5] END .................model__alpha=4.9;, score=-0.249 total time=   0.2s\n",
      "[CV 4/5] END .................model__alpha=4.9;, score=-0.249 total time=   0.2s\n",
      "[CV 5/5] END .................model__alpha=4.9;, score=-0.249 total time=   0.2s\n",
      "[CV 1/5] END .................model__alpha=5.0;, score=-0.249 total time=   0.2s\n",
      "[CV 2/5] END .................model__alpha=5.0;, score=-0.248 total time=   0.2s\n",
      "[CV 3/5] END .................model__alpha=5.0;, score=-0.249 total time=   0.2s\n",
      "[CV 4/5] END .................model__alpha=5.0;, score=-0.249 total time=   0.2s\n",
      "[CV 5/5] END .................model__alpha=5.0;, score=-0.249 total time=   0.2s\n",
      "[CV 1/5] END .................model__alpha=5.1;, score=-0.249 total time=   0.2s\n",
      "[CV 2/5] END .................model__alpha=5.1;, score=-0.248 total time=   0.2s\n",
      "[CV 3/5] END .................model__alpha=5.1;, score=-0.249 total time=   0.2s\n",
      "[CV 4/5] END .................model__alpha=5.1;, score=-0.249 total time=   0.2s\n",
      "[CV 5/5] END .................model__alpha=5.1;, score=-0.249 total time=   0.4s\n",
      "[CV 1/5] END .................model__alpha=5.2;, score=-0.249 total time=   0.2s\n",
      "[CV 2/5] END .................model__alpha=5.2;, score=-0.248 total time=   0.4s\n",
      "[CV 3/5] END .................model__alpha=5.2;, score=-0.249 total time=   0.2s\n",
      "[CV 4/5] END .................model__alpha=5.2;, score=-0.249 total time=   0.2s\n",
      "[CV 5/5] END .................model__alpha=5.2;, score=-0.249 total time=   0.2s\n",
      "[CV 1/5] END .................model__alpha=5.3;, score=-0.249 total time=   0.2s\n",
      "[CV 2/5] END .................model__alpha=5.3;, score=-0.248 total time=   0.2s\n",
      "[CV 3/5] END .................model__alpha=5.3;, score=-0.249 total time=   0.2s\n",
      "[CV 4/5] END .................model__alpha=5.3;, score=-0.249 total time=   0.2s\n",
      "[CV 5/5] END .................model__alpha=5.3;, score=-0.249 total time=   0.2s\n",
      "[CV 1/5] END .................model__alpha=5.4;, score=-0.249 total time=   0.2s\n",
      "[CV 2/5] END .................model__alpha=5.4;, score=-0.248 total time=   0.1s\n",
      "[CV 3/5] END .................model__alpha=5.4;, score=-0.249 total time=   0.2s\n",
      "[CV 4/5] END .................model__alpha=5.4;, score=-0.249 total time=   0.1s\n",
      "[CV 5/5] END .................model__alpha=5.4;, score=-0.249 total time=   0.1s\n",
      "[CV 1/5] END .................model__alpha=5.5;, score=-0.249 total time=   0.1s\n",
      "[CV 2/5] END .................model__alpha=5.5;, score=-0.248 total time=   0.1s\n",
      "[CV 3/5] END .................model__alpha=5.5;, score=-0.249 total time=   0.1s\n",
      "[CV 4/5] END .................model__alpha=5.5;, score=-0.249 total time=   0.1s\n",
      "[CV 5/5] END .................model__alpha=5.5;, score=-0.249 total time=   0.1s\n",
      "[CV 1/5] END .................model__alpha=5.6;, score=-0.249 total time=   0.1s\n",
      "[CV 2/5] END .................model__alpha=5.6;, score=-0.248 total time=   0.1s\n",
      "[CV 3/5] END .................model__alpha=5.6;, score=-0.249 total time=   0.1s\n",
      "[CV 4/5] END .................model__alpha=5.6;, score=-0.249 total time=   0.1s\n",
      "[CV 5/5] END .................model__alpha=5.6;, score=-0.249 total time=   0.1s\n",
      "[CV 1/5] END .................model__alpha=5.7;, score=-0.249 total time=   0.1s\n",
      "[CV 2/5] END .................model__alpha=5.7;, score=-0.248 total time=   0.1s\n",
      "[CV 3/5] END .................model__alpha=5.7;, score=-0.249 total time=   0.1s\n",
      "[CV 4/5] END .................model__alpha=5.7;, score=-0.249 total time=   0.1s\n",
      "[CV 5/5] END .................model__alpha=5.7;, score=-0.249 total time=   0.1s\n",
      "[CV 1/5] END .................model__alpha=5.8;, score=-0.249 total time=   0.1s\n",
      "[CV 2/5] END .................model__alpha=5.8;, score=-0.248 total time=   0.1s\n",
      "[CV 3/5] END .................model__alpha=5.8;, score=-0.249 total time=   0.1s\n",
      "[CV 4/5] END .................model__alpha=5.8;, score=-0.249 total time=   0.1s\n",
      "[CV 5/5] END .................model__alpha=5.8;, score=-0.249 total time=   0.1s\n",
      "[CV 1/5] END .................model__alpha=5.9;, score=-0.249 total time=   0.1s\n",
      "[CV 2/5] END .................model__alpha=5.9;, score=-0.248 total time=   0.1s\n",
      "[CV 3/5] END .................model__alpha=5.9;, score=-0.249 total time=   0.1s\n",
      "[CV 4/5] END .................model__alpha=5.9;, score=-0.249 total time=   0.1s\n",
      "[CV 5/5] END .................model__alpha=5.9;, score=-0.249 total time=   0.1s\n",
      "[CV 1/5] END .................model__alpha=6.0;, score=-0.249 total time=   0.1s\n",
      "[CV 2/5] END .................model__alpha=6.0;, score=-0.248 total time=   0.1s\n",
      "[CV 3/5] END .................model__alpha=6.0;, score=-0.249 total time=   0.1s\n",
      "[CV 4/5] END .................model__alpha=6.0;, score=-0.249 total time=   0.1s\n",
      "[CV 5/5] END .................model__alpha=6.0;, score=-0.249 total time=   0.1s\n",
      "[CV 1/5] END .................model__alpha=6.1;, score=-0.249 total time=   0.1s\n",
      "[CV 2/5] END .................model__alpha=6.1;, score=-0.248 total time=   0.1s\n",
      "[CV 3/5] END .................model__alpha=6.1;, score=-0.249 total time=   0.1s\n",
      "[CV 4/5] END .................model__alpha=6.1;, score=-0.249 total time=   0.1s\n",
      "[CV 5/5] END .................model__alpha=6.1;, score=-0.249 total time=   0.1s\n",
      "[CV 1/5] END .................model__alpha=6.2;, score=-0.249 total time=   0.1s\n",
      "[CV 2/5] END .................model__alpha=6.2;, score=-0.248 total time=   0.1s\n",
      "[CV 3/5] END .................model__alpha=6.2;, score=-0.249 total time=   0.1s\n",
      "[CV 4/5] END .................model__alpha=6.2;, score=-0.249 total time=   0.1s\n",
      "[CV 5/5] END .................model__alpha=6.2;, score=-0.249 total time=   0.1s\n",
      "[CV 1/5] END .................model__alpha=6.3;, score=-0.249 total time=   0.1s\n",
      "[CV 2/5] END .................model__alpha=6.3;, score=-0.248 total time=   0.1s\n",
      "[CV 3/5] END .................model__alpha=6.3;, score=-0.249 total time=   0.1s\n",
      "[CV 4/5] END .................model__alpha=6.3;, score=-0.249 total time=   0.1s\n",
      "[CV 5/5] END .................model__alpha=6.3;, score=-0.249 total time=   0.1s\n",
      "[CV 1/5] END .................model__alpha=6.4;, score=-0.249 total time=   0.1s\n",
      "[CV 2/5] END .................model__alpha=6.4;, score=-0.248 total time=   0.1s\n",
      "[CV 3/5] END .................model__alpha=6.4;, score=-0.249 total time=   0.1s\n",
      "[CV 4/5] END .................model__alpha=6.4;, score=-0.249 total time=   0.1s\n",
      "[CV 5/5] END .................model__alpha=6.4;, score=-0.249 total time=   0.1s\n",
      "[CV 1/5] END .................model__alpha=6.5;, score=-0.249 total time=   0.1s\n",
      "[CV 2/5] END .................model__alpha=6.5;, score=-0.248 total time=   0.1s\n",
      "[CV 3/5] END .................model__alpha=6.5;, score=-0.249 total time=   0.1s\n",
      "[CV 4/5] END .................model__alpha=6.5;, score=-0.249 total time=   0.1s\n",
      "[CV 5/5] END .................model__alpha=6.5;, score=-0.249 total time=   0.1s\n",
      "[CV 1/5] END .................model__alpha=6.6;, score=-0.249 total time=   0.1s\n",
      "[CV 2/5] END .................model__alpha=6.6;, score=-0.248 total time=   0.1s\n",
      "[CV 3/5] END .................model__alpha=6.6;, score=-0.249 total time=   0.1s\n",
      "[CV 4/5] END .................model__alpha=6.6;, score=-0.249 total time=   0.1s\n",
      "[CV 5/5] END .................model__alpha=6.6;, score=-0.249 total time=   0.1s\n",
      "[CV 1/5] END .................model__alpha=6.7;, score=-0.249 total time=   0.1s\n",
      "[CV 2/5] END .................model__alpha=6.7;, score=-0.248 total time=   0.1s\n",
      "[CV 3/5] END .................model__alpha=6.7;, score=-0.249 total time=   0.1s\n",
      "[CV 4/5] END .................model__alpha=6.7;, score=-0.249 total time=   0.1s\n",
      "[CV 5/5] END .................model__alpha=6.7;, score=-0.249 total time=   0.1s\n",
      "[CV 1/5] END .................model__alpha=6.8;, score=-0.249 total time=   0.1s\n",
      "[CV 2/5] END .................model__alpha=6.8;, score=-0.248 total time=   0.1s\n",
      "[CV 3/5] END .................model__alpha=6.8;, score=-0.249 total time=   0.1s\n",
      "[CV 4/5] END .................model__alpha=6.8;, score=-0.249 total time=   0.1s\n",
      "[CV 5/5] END .................model__alpha=6.8;, score=-0.249 total time=   0.1s\n",
      "[CV 1/5] END .................model__alpha=6.9;, score=-0.249 total time=   0.1s\n",
      "[CV 2/5] END .................model__alpha=6.9;, score=-0.248 total time=   0.1s\n",
      "[CV 3/5] END .................model__alpha=6.9;, score=-0.249 total time=   0.1s\n",
      "[CV 4/5] END .................model__alpha=6.9;, score=-0.249 total time=   0.1s\n",
      "[CV 5/5] END .................model__alpha=6.9;, score=-0.249 total time=   0.1s\n",
      "[CV 1/5] END .................model__alpha=7.0;, score=-0.249 total time=   0.1s\n",
      "[CV 2/5] END .................model__alpha=7.0;, score=-0.248 total time=   0.1s\n",
      "[CV 3/5] END .................model__alpha=7.0;, score=-0.249 total time=   0.1s\n",
      "[CV 4/5] END .................model__alpha=7.0;, score=-0.249 total time=   0.1s\n",
      "[CV 5/5] END .................model__alpha=7.0;, score=-0.249 total time=   0.1s\n",
      "[CV 1/5] END .................model__alpha=7.1;, score=-0.249 total time=   0.1s\n",
      "[CV 2/5] END .................model__alpha=7.1;, score=-0.248 total time=   0.1s\n",
      "[CV 3/5] END .................model__alpha=7.1;, score=-0.249 total time=   0.1s\n",
      "[CV 4/5] END .................model__alpha=7.1;, score=-0.249 total time=   0.1s\n",
      "[CV 5/5] END .................model__alpha=7.1;, score=-0.249 total time=   0.1s\n",
      "[CV 1/5] END .................model__alpha=7.2;, score=-0.249 total time=   0.1s\n",
      "[CV 2/5] END .................model__alpha=7.2;, score=-0.248 total time=   0.1s\n",
      "[CV 3/5] END .................model__alpha=7.2;, score=-0.249 total time=   0.1s\n",
      "[CV 4/5] END .................model__alpha=7.2;, score=-0.249 total time=   0.1s\n",
      "[CV 5/5] END .................model__alpha=7.2;, score=-0.249 total time=   0.1s\n",
      "[CV 1/5] END .................model__alpha=7.3;, score=-0.249 total time=   0.1s\n",
      "[CV 2/5] END .................model__alpha=7.3;, score=-0.248 total time=   0.1s\n",
      "[CV 3/5] END .................model__alpha=7.3;, score=-0.249 total time=   0.1s\n",
      "[CV 4/5] END .................model__alpha=7.3;, score=-0.249 total time=   0.1s\n",
      "[CV 5/5] END .................model__alpha=7.3;, score=-0.249 total time=   0.1s\n",
      "[CV 1/5] END .................model__alpha=7.4;, score=-0.249 total time=   0.1s\n",
      "[CV 2/5] END .................model__alpha=7.4;, score=-0.248 total time=   0.1s\n",
      "[CV 3/5] END .................model__alpha=7.4;, score=-0.249 total time=   0.1s\n",
      "[CV 4/5] END .................model__alpha=7.4;, score=-0.249 total time=   0.1s\n",
      "[CV 5/5] END .................model__alpha=7.4;, score=-0.249 total time=   0.1s\n",
      "[CV 1/5] END .................model__alpha=7.5;, score=-0.249 total time=   0.1s\n",
      "[CV 2/5] END .................model__alpha=7.5;, score=-0.248 total time=   0.1s\n",
      "[CV 3/5] END .................model__alpha=7.5;, score=-0.249 total time=   0.1s\n",
      "[CV 4/5] END .................model__alpha=7.5;, score=-0.249 total time=   0.1s\n",
      "[CV 5/5] END .................model__alpha=7.5;, score=-0.249 total time=   0.1s\n",
      "[CV 1/5] END .................model__alpha=7.6;, score=-0.249 total time=   0.1s\n",
      "[CV 2/5] END .................model__alpha=7.6;, score=-0.248 total time=   0.1s\n",
      "[CV 3/5] END .................model__alpha=7.6;, score=-0.249 total time=   0.1s\n",
      "[CV 4/5] END .................model__alpha=7.6;, score=-0.249 total time=   0.1s\n",
      "[CV 5/5] END .................model__alpha=7.6;, score=-0.249 total time=   0.1s\n",
      "[CV 1/5] END .................model__alpha=7.7;, score=-0.249 total time=   0.1s\n",
      "[CV 2/5] END .................model__alpha=7.7;, score=-0.248 total time=   0.1s\n",
      "[CV 3/5] END .................model__alpha=7.7;, score=-0.249 total time=   0.1s\n",
      "[CV 4/5] END .................model__alpha=7.7;, score=-0.249 total time=   0.1s\n",
      "[CV 5/5] END .................model__alpha=7.7;, score=-0.249 total time=   0.1s\n",
      "[CV 1/5] END .................model__alpha=7.8;, score=-0.249 total time=   0.1s\n",
      "[CV 2/5] END .................model__alpha=7.8;, score=-0.248 total time=   0.1s\n",
      "[CV 3/5] END .................model__alpha=7.8;, score=-0.249 total time=   0.1s\n",
      "[CV 4/5] END .................model__alpha=7.8;, score=-0.249 total time=   0.1s\n",
      "[CV 5/5] END .................model__alpha=7.8;, score=-0.249 total time=   0.1s\n",
      "[CV 1/5] END .................model__alpha=7.9;, score=-0.249 total time=   0.1s\n",
      "[CV 2/5] END .................model__alpha=7.9;, score=-0.248 total time=   0.1s\n",
      "[CV 3/5] END .................model__alpha=7.9;, score=-0.249 total time=   0.1s\n",
      "[CV 4/5] END .................model__alpha=7.9;, score=-0.249 total time=   0.1s\n",
      "[CV 5/5] END .................model__alpha=7.9;, score=-0.249 total time=   0.1s\n",
      "[CV 1/5] END .................model__alpha=8.0;, score=-0.249 total time=   0.1s\n",
      "[CV 2/5] END .................model__alpha=8.0;, score=-0.248 total time=   0.1s\n",
      "[CV 3/5] END .................model__alpha=8.0;, score=-0.249 total time=   0.1s\n",
      "[CV 4/5] END .................model__alpha=8.0;, score=-0.249 total time=   0.1s\n",
      "[CV 5/5] END .................model__alpha=8.0;, score=-0.249 total time=   0.1s\n",
      "[CV 1/5] END .................model__alpha=8.1;, score=-0.249 total time=   0.1s\n",
      "[CV 2/5] END .................model__alpha=8.1;, score=-0.248 total time=   0.1s\n",
      "[CV 3/5] END .................model__alpha=8.1;, score=-0.249 total time=   0.1s\n",
      "[CV 4/5] END .................model__alpha=8.1;, score=-0.249 total time=   0.1s\n",
      "[CV 5/5] END .................model__alpha=8.1;, score=-0.249 total time=   0.1s\n",
      "[CV 1/5] END .................model__alpha=8.2;, score=-0.249 total time=   0.1s\n",
      "[CV 2/5] END .................model__alpha=8.2;, score=-0.248 total time=   0.1s\n",
      "[CV 3/5] END .................model__alpha=8.2;, score=-0.249 total time=   0.1s\n",
      "[CV 4/5] END .................model__alpha=8.2;, score=-0.249 total time=   0.1s\n",
      "[CV 5/5] END .................model__alpha=8.2;, score=-0.249 total time=   0.1s\n",
      "[CV 1/5] END .................model__alpha=8.3;, score=-0.249 total time=   0.1s\n",
      "[CV 2/5] END .................model__alpha=8.3;, score=-0.248 total time=   0.1s\n",
      "[CV 3/5] END .................model__alpha=8.3;, score=-0.249 total time=   0.1s\n",
      "[CV 4/5] END .................model__alpha=8.3;, score=-0.249 total time=   0.1s\n",
      "[CV 5/5] END .................model__alpha=8.3;, score=-0.249 total time=   0.1s\n",
      "[CV 1/5] END .................model__alpha=8.4;, score=-0.249 total time=   0.1s\n",
      "[CV 2/5] END .................model__alpha=8.4;, score=-0.248 total time=   0.1s\n",
      "[CV 3/5] END .................model__alpha=8.4;, score=-0.249 total time=   0.1s\n",
      "[CV 4/5] END .................model__alpha=8.4;, score=-0.249 total time=   0.1s\n",
      "[CV 5/5] END .................model__alpha=8.4;, score=-0.249 total time=   0.1s\n",
      "[CV 1/5] END .................model__alpha=8.5;, score=-0.249 total time=   0.1s\n",
      "[CV 2/5] END .................model__alpha=8.5;, score=-0.248 total time=   0.1s\n",
      "[CV 3/5] END .................model__alpha=8.5;, score=-0.249 total time=   0.1s\n",
      "[CV 4/5] END .................model__alpha=8.5;, score=-0.249 total time=   0.1s\n",
      "[CV 5/5] END .................model__alpha=8.5;, score=-0.249 total time=   0.1s\n",
      "[CV 1/5] END .................model__alpha=8.6;, score=-0.249 total time=   0.1s\n",
      "[CV 2/5] END .................model__alpha=8.6;, score=-0.248 total time=   0.1s\n",
      "[CV 3/5] END .................model__alpha=8.6;, score=-0.249 total time=   0.1s\n",
      "[CV 4/5] END .................model__alpha=8.6;, score=-0.249 total time=   0.1s\n",
      "[CV 5/5] END .................model__alpha=8.6;, score=-0.249 total time=   0.1s\n",
      "[CV 1/5] END .................model__alpha=8.7;, score=-0.249 total time=   0.1s\n",
      "[CV 2/5] END .................model__alpha=8.7;, score=-0.248 total time=   0.1s\n",
      "[CV 3/5] END .................model__alpha=8.7;, score=-0.249 total time=   0.1s\n",
      "[CV 4/5] END .................model__alpha=8.7;, score=-0.249 total time=   0.1s\n",
      "[CV 5/5] END .................model__alpha=8.7;, score=-0.249 total time=   0.1s\n",
      "[CV 1/5] END .................model__alpha=8.8;, score=-0.249 total time=   0.1s\n",
      "[CV 2/5] END .................model__alpha=8.8;, score=-0.248 total time=   0.1s\n",
      "[CV 3/5] END .................model__alpha=8.8;, score=-0.249 total time=   0.1s\n",
      "[CV 4/5] END .................model__alpha=8.8;, score=-0.249 total time=   0.1s\n",
      "[CV 5/5] END .................model__alpha=8.8;, score=-0.249 total time=   0.1s\n",
      "[CV 1/5] END .................model__alpha=8.9;, score=-0.249 total time=   0.1s\n",
      "[CV 2/5] END .................model__alpha=8.9;, score=-0.248 total time=   0.1s\n",
      "[CV 3/5] END .................model__alpha=8.9;, score=-0.249 total time=   0.1s\n",
      "[CV 4/5] END .................model__alpha=8.9;, score=-0.249 total time=   0.1s\n",
      "[CV 5/5] END .................model__alpha=8.9;, score=-0.249 total time=   0.1s\n",
      "[CV 1/5] END .................model__alpha=9.0;, score=-0.249 total time=   0.1s\n",
      "[CV 2/5] END .................model__alpha=9.0;, score=-0.248 total time=   0.1s\n",
      "[CV 3/5] END .................model__alpha=9.0;, score=-0.249 total time=   0.1s\n",
      "[CV 4/5] END .................model__alpha=9.0;, score=-0.249 total time=   0.1s\n",
      "[CV 5/5] END .................model__alpha=9.0;, score=-0.249 total time=   0.1s\n",
      "[CV 1/5] END .................model__alpha=9.1;, score=-0.249 total time=   0.1s\n",
      "[CV 2/5] END .................model__alpha=9.1;, score=-0.248 total time=   0.1s\n",
      "[CV 3/5] END .................model__alpha=9.1;, score=-0.249 total time=   0.1s\n",
      "[CV 4/5] END .................model__alpha=9.1;, score=-0.249 total time=   0.1s\n",
      "[CV 5/5] END .................model__alpha=9.1;, score=-0.249 total time=   0.1s\n",
      "[CV 1/5] END .................model__alpha=9.2;, score=-0.249 total time=   0.1s\n",
      "[CV 2/5] END .................model__alpha=9.2;, score=-0.248 total time=   0.1s\n",
      "[CV 3/5] END .................model__alpha=9.2;, score=-0.249 total time=   0.1s\n",
      "[CV 4/5] END .................model__alpha=9.2;, score=-0.249 total time=   0.1s\n",
      "[CV 5/5] END .................model__alpha=9.2;, score=-0.249 total time=   0.1s\n",
      "[CV 1/5] END .................model__alpha=9.3;, score=-0.249 total time=   0.1s\n",
      "[CV 2/5] END .................model__alpha=9.3;, score=-0.248 total time=   0.1s\n",
      "[CV 3/5] END .................model__alpha=9.3;, score=-0.249 total time=   0.1s\n",
      "[CV 4/5] END .................model__alpha=9.3;, score=-0.249 total time=   0.1s\n",
      "[CV 5/5] END .................model__alpha=9.3;, score=-0.249 total time=   0.1s\n",
      "[CV 1/5] END .................model__alpha=9.4;, score=-0.249 total time=   0.1s\n",
      "[CV 2/5] END .................model__alpha=9.4;, score=-0.248 total time=   0.1s\n",
      "[CV 3/5] END .................model__alpha=9.4;, score=-0.249 total time=   0.1s\n",
      "[CV 4/5] END .................model__alpha=9.4;, score=-0.249 total time=   0.1s\n",
      "[CV 5/5] END .................model__alpha=9.4;, score=-0.249 total time=   0.1s\n",
      "[CV 1/5] END .................model__alpha=9.5;, score=-0.249 total time=   0.1s\n",
      "[CV 2/5] END .................model__alpha=9.5;, score=-0.248 total time=   0.1s\n",
      "[CV 3/5] END .................model__alpha=9.5;, score=-0.249 total time=   0.1s\n",
      "[CV 4/5] END .................model__alpha=9.5;, score=-0.249 total time=   0.1s\n",
      "[CV 5/5] END .................model__alpha=9.5;, score=-0.249 total time=   0.1s\n",
      "[CV 1/5] END .................model__alpha=9.6;, score=-0.249 total time=   0.1s\n",
      "[CV 2/5] END .................model__alpha=9.6;, score=-0.248 total time=   0.1s\n",
      "[CV 3/5] END .................model__alpha=9.6;, score=-0.249 total time=   0.1s\n",
      "[CV 4/5] END .................model__alpha=9.6;, score=-0.249 total time=   0.1s\n",
      "[CV 5/5] END .................model__alpha=9.6;, score=-0.249 total time=   0.1s\n",
      "[CV 1/5] END ...model__alpha=9.700000000000001;, score=-0.249 total time=   0.1s\n",
      "[CV 2/5] END ...model__alpha=9.700000000000001;, score=-0.248 total time=   0.2s\n",
      "[CV 3/5] END ...model__alpha=9.700000000000001;, score=-0.249 total time=   0.1s\n",
      "[CV 4/5] END ...model__alpha=9.700000000000001;, score=-0.249 total time=   0.1s\n",
      "[CV 5/5] END ...model__alpha=9.700000000000001;, score=-0.249 total time=   0.1s\n",
      "[CV 1/5] END .................model__alpha=9.8;, score=-0.249 total time=   0.1s\n",
      "[CV 2/5] END .................model__alpha=9.8;, score=-0.248 total time=   0.1s\n",
      "[CV 3/5] END .................model__alpha=9.8;, score=-0.249 total time=   0.1s\n",
      "[CV 4/5] END .................model__alpha=9.8;, score=-0.249 total time=   0.1s\n",
      "[CV 5/5] END .................model__alpha=9.8;, score=-0.249 total time=   0.1s\n",
      "[CV 1/5] END .................model__alpha=9.9;, score=-0.249 total time=   0.1s\n",
      "[CV 2/5] END .................model__alpha=9.9;, score=-0.248 total time=   0.1s\n",
      "[CV 3/5] END .................model__alpha=9.9;, score=-0.249 total time=   0.1s\n",
      "[CV 4/5] END .................model__alpha=9.9;, score=-0.249 total time=   0.1s\n",
      "[CV 5/5] END .................model__alpha=9.9;, score=-0.249 total time=   0.1s\n"
     ]
    },
    {
     "data": {
      "text/plain": [
       "GridSearchCV(cv=5,\n",
       "             estimator=Pipeline(steps=[('scaler', StandardScaler()),\n",
       "                                       ('model', Lasso())]),\n",
       "             param_grid={'model__alpha': array([0.1, 0.2, 0.3, 0.4, 0.5, 0.6, 0.7, 0.8, 0.9, 1. , 1.1, 1.2, 1.3,\n",
       "       1.4, 1.5, 1.6, 1.7, 1.8, 1.9, 2. , 2.1, 2.2, 2.3, 2.4, 2.5, 2.6,\n",
       "       2.7, 2.8, 2.9, 3. , 3.1, 3.2, 3.3, 3.4, 3.5, 3.6, 3.7, 3.8, 3.9,\n",
       "       4. , 4.1, 4.2, 4.3, 4.4, 4.5, 4.6, 4.7, 4.8, 4.9, 5. , 5.1, 5.2,\n",
       "       5.3, 5.4, 5.5, 5.6, 5.7, 5.8, 5.9, 6. , 6.1, 6.2, 6.3, 6.4, 6.5,\n",
       "       6.6, 6.7, 6.8, 6.9, 7. , 7.1, 7.2, 7.3, 7.4, 7.5, 7.6, 7.7, 7.8,\n",
       "       7.9, 8. , 8.1, 8.2, 8.3, 8.4, 8.5, 8.6, 8.7, 8.8, 8.9, 9. , 9.1,\n",
       "       9.2, 9.3, 9.4, 9.5, 9.6, 9.7, 9.8, 9.9])},\n",
       "             scoring='neg_mean_squared_error', verbose=3)"
      ]
     },
     "execution_count": 21,
     "metadata": {},
     "output_type": "execute_result"
    }
   ],
   "source": [
    "search.fit(X_train,y_train)"
   ]
  },
  {
   "cell_type": "code",
   "execution_count": 22,
   "metadata": {
    "colab": {
     "base_uri": "https://localhost:8080/",
     "height": 0
    },
    "id": "YhfcAlYw2_rp",
    "outputId": "cb50cacb-0189-4c38-d1f7-225acb0a8be3"
   },
   "outputs": [
    {
     "data": {
      "text/plain": [
       "{'model__alpha': 0.1}"
      ]
     },
     "execution_count": 22,
     "metadata": {},
     "output_type": "execute_result"
    }
   ],
   "source": [
    "search.best_params_"
   ]
  },
  {
   "cell_type": "code",
   "execution_count": 23,
   "metadata": {
    "id": "6trbCtHe3Fpr"
   },
   "outputs": [],
   "source": [
    "coefficients = search.best_estimator_.named_steps['model'].coef_"
   ]
  },
  {
   "cell_type": "code",
   "execution_count": 24,
   "metadata": {
    "id": "MpNRPpuI3Jhn"
   },
   "outputs": [],
   "source": [
    "importance = np.abs(coefficients)"
   ]
  },
  {
   "cell_type": "code",
   "execution_count": 25,
   "metadata": {
    "id": "EiGd3z-e4YH7"
   },
   "outputs": [],
   "source": [
    "features=[]\n",
    "for col in df.columns:\n",
    "    if(col!='class'):\n",
    "      features.append(col)"
   ]
  },
  {
   "cell_type": "code",
   "execution_count": 26,
   "metadata": {
    "colab": {
     "base_uri": "https://localhost:8080/",
     "height": 0
    },
    "id": "Dg92zt1x3OYm",
    "outputId": "8bdb9395-cd4d-4edb-bad3-eac8a5718925"
   },
   "outputs": [
    {
     "name": "stdout",
     "output_type": "stream",
     "text": [
      "['logged_in', 'count', 'same_srv_rate', 'dst_host_srv_count', 'dst_host_srv_serror_rate']\n"
     ]
    }
   ],
   "source": [
    "selected_lasso=np.array(features)[importance > 0]\n",
    "new_lasso=selected_lasso.tolist()\n",
    "print(new_lasso)"
   ]
  },
  {
   "cell_type": "code",
   "execution_count": 40,
   "metadata": {
    "colab": {
     "base_uri": "https://localhost:8080/",
     "height": 0
    },
    "id": "xu7DMIPo6LVP",
    "outputId": "48a5ba1b-b1b1-4d51-f117-1e3e98a32b93"
   },
   "outputs": [
    {
     "data": {
      "text/plain": [
       "125973"
      ]
     },
     "execution_count": 40,
     "metadata": {},
     "output_type": "execute_result"
    }
   ],
   "source": [
    "X2 = df[new_lasso]\n",
    "X2 = np.nan_to_num(X2)\n",
    "len(X2)"
   ]
  },
  {
   "cell_type": "markdown",
   "metadata": {
    "id": "nKWbpPZcP9-w"
   },
   "source": [
    "**5-FOLD CROSS VALIDATION**"
   ]
  },
  {
   "cell_type": "markdown",
   "metadata": {
    "id": "4DTH5DeLP9-w"
   },
   "source": [
    "DECISION TREE"
   ]
  },
  {
   "cell_type": "code",
   "execution_count": 59,
   "metadata": {
    "colab": {
     "base_uri": "https://localhost:8080/",
     "height": 0
    },
    "id": "Nqt4H7cJP9-w",
    "outputId": "4a6ad5fb-318f-4e81-ab53-aac44b02a4a8"
   },
   "outputs": [
    {
     "name": "stdout",
     "output_type": "stream",
     "text": [
      "{'Mean Training Accuracy': 94.64905173709406, 'Mean Training Precision': 95.0889790462424, 'Mean Training Recall': 93.3229575302746}\n"
     ]
    }
   ],
   "source": [
    "from sklearn.tree import DecisionTreeClassifier\n",
    "decision_tree_model = DecisionTreeClassifier(criterion=\"entropy\",random_state=0)\n",
    "decision_tree_result = cross_validation(decision_tree_model,X2,y,5)\n",
    "print(decision_tree_result)"
   ]
  },
  {
   "cell_type": "markdown",
   "metadata": {
    "id": "IUeQM5YkP9-w"
   },
   "source": [
    "K-NEAREST NEIGHBOURS"
   ]
  },
  {
   "cell_type": "code",
   "execution_count": 60,
   "metadata": {
    "colab": {
     "base_uri": "https://localhost:8080/",
     "height": 0
    },
    "id": "D9tTLaMSP9-x",
    "outputId": "a97634e0-29cf-4ede-dc13-533a90f2c84a"
   },
   "outputs": [
    {
     "name": "stdout",
     "output_type": "stream",
     "text": [
      "{'Mean Training Accuracy': 93.20747335115115, 'Mean Training Precision': 93.50556674366042, 'Mean Training Recall': 91.79899368923759}\n"
     ]
    }
   ],
   "source": [
    "from sklearn.neighbors import KNeighborsClassifier\n",
    "knn = KNeighborsClassifier(n_neighbors=7)\n",
    "knn_result = cross_validation(knn,X2,y,5)\n",
    "print(knn_result)"
   ]
  },
  {
   "cell_type": "markdown",
   "metadata": {
    "id": "mrCUC_CXP9-x"
   },
   "source": [
    "NAIVE BAYES"
   ]
  },
  {
   "cell_type": "code",
   "execution_count": 61,
   "metadata": {
    "colab": {
     "base_uri": "https://localhost:8080/",
     "height": 0
    },
    "id": "EGGyDRnBP9-x",
    "outputId": "8f79d8fa-27eb-4d41-c38d-9b31ac14635e"
   },
   "outputs": [
    {
     "name": "stdout",
     "output_type": "stream",
     "text": [
      "{'Mean Training Accuracy': 88.30185832184307, 'Mean Training Precision': 93.22953631678953, 'Mean Training Recall': 80.72786969128434}\n"
     ]
    }
   ],
   "source": [
    "from sklearn.naive_bayes import GaussianNB\n",
    "gnb = GaussianNB()\n",
    "nb_result = cross_validation(gnb,X2,y,5)\n",
    "print(nb_result)"
   ]
  },
  {
   "cell_type": "markdown",
   "metadata": {
    "id": "jhMl6trOP9-x"
   },
   "source": [
    "**10-FOLD CROSS VALIDATION**"
   ]
  },
  {
   "cell_type": "markdown",
   "metadata": {
    "id": "dH7pUkZZP9-x"
   },
   "source": [
    "DECISION TREE"
   ]
  },
  {
   "cell_type": "code",
   "execution_count": 62,
   "metadata": {
    "colab": {
     "base_uri": "https://localhost:8080/",
     "height": 0
    },
    "id": "a5H-VPwGP9-x",
    "outputId": "f65404a1-8177-4f73-fc2d-6db293bfe235"
   },
   "outputs": [
    {
     "name": "stdout",
     "output_type": "stream",
     "text": [
      "{'Mean Training Accuracy': 94.58949315792961, 'Mean Training Precision': 95.02751348902443, 'Mean Training Recall': 93.25468569371009}\n"
     ]
    }
   ],
   "source": [
    "from sklearn.tree import DecisionTreeClassifier\n",
    "decision_tree_model = DecisionTreeClassifier(criterion=\"entropy\",random_state=0)\n",
    "decision_tree_result = cross_validation(decision_tree_model,X2,y,10)\n",
    "print(decision_tree_result)"
   ]
  },
  {
   "cell_type": "markdown",
   "metadata": {
    "id": "kzFmitlAP9-x"
   },
   "source": [
    "K-NEAREST NEIGHBOURS"
   ]
  },
  {
   "cell_type": "code",
   "execution_count": 63,
   "metadata": {
    "colab": {
     "base_uri": "https://localhost:8080/",
     "height": 0
    },
    "id": "zD6aVVVmP9-x",
    "outputId": "a1388ad3-1f7e-4786-dbe8-237fe3d5cb9e"
   },
   "outputs": [
    {
     "name": "stdout",
     "output_type": "stream",
     "text": [
      "{'Mean Training Accuracy': 93.34442863951186, 'Mean Training Precision': 93.87181489661913, 'Mean Training Recall': 91.69253510716926}\n"
     ]
    }
   ],
   "source": [
    "from sklearn.neighbors import KNeighborsClassifier\n",
    "knn = KNeighborsClassifier(n_neighbors=7)\n",
    "knn_result = cross_validation(knn,X2,y,10)\n",
    "print(knn_result)"
   ]
  },
  {
   "cell_type": "markdown",
   "metadata": {
    "id": "X7iihke4P9-x"
   },
   "source": [
    "NAIVE BAYES"
   ]
  },
  {
   "cell_type": "code",
   "execution_count": 64,
   "metadata": {
    "colab": {
     "base_uri": "https://localhost:8080/",
     "height": 0
    },
    "id": "5oI1_bUdP9-x",
    "outputId": "5d79ccac-72ab-4c47-97ce-061b7738fc05"
   },
   "outputs": [
    {
     "name": "stdout",
     "output_type": "stream",
     "text": [
      "{'Mean Training Accuracy': 88.30304909660836, 'Mean Training Precision': 93.23165371368268, 'Mean Training Recall': 80.72848560653438}\n"
     ]
    }
   ],
   "source": [
    "from sklearn.naive_bayes import GaussianNB\n",
    "gnb = GaussianNB()\n",
    "nb_result = cross_validation(gnb,X2,y,10)\n",
    "print(nb_result)"
   ]
  },
  {
   "cell_type": "markdown",
   "metadata": {
    "id": "sTwWI8UrP9-x"
   },
   "source": [
    "**15-FOLD CROSS VALIDATION**"
   ]
  },
  {
   "cell_type": "markdown",
   "metadata": {
    "id": "40Qu4PeVP9-x"
   },
   "source": [
    "DECISION TREE"
   ]
  },
  {
   "cell_type": "code",
   "execution_count": 65,
   "metadata": {
    "colab": {
     "base_uri": "https://localhost:8080/",
     "height": 0
    },
    "id": "pyPllCL7P9-x",
    "outputId": "a0bf83bf-e0b4-45b3-9085-389c01179a2b"
   },
   "outputs": [
    {
     "name": "stdout",
     "output_type": "stream",
     "text": [
      "{'Mean Training Accuracy': 94.57083207118, 'Mean Training Precision': 95.00503871882788, 'Mean Training Recall': 93.23688518067937}\n"
     ]
    }
   ],
   "source": [
    "from sklearn.tree import DecisionTreeClassifier\n",
    "decision_tree_model = DecisionTreeClassifier(criterion=\"entropy\",random_state=0)\n",
    "decision_tree_result = cross_validation(decision_tree_model,X2,y,15)\n",
    "print(decision_tree_result)"
   ]
  },
  {
   "cell_type": "markdown",
   "metadata": {
    "id": "x9fOOzGmP9-y"
   },
   "source": [
    "K-NEAREST NEIGHBOURS"
   ]
  },
  {
   "cell_type": "code",
   "execution_count": 66,
   "metadata": {
    "colab": {
     "base_uri": "https://localhost:8080/",
     "height": 0
    },
    "id": "feOs_eAMP9-y",
    "outputId": "c9b13994-abd1-4450-d145-1f90858d82c5"
   },
   "outputs": [
    {
     "name": "stdout",
     "output_type": "stream",
     "text": [
      "{'Mean Training Accuracy': 93.36564187805094, 'Mean Training Precision': 93.5022701027952, 'Mean Training Recall': 92.15686945163941}\n"
     ]
    }
   ],
   "source": [
    "from sklearn.neighbors import KNeighborsClassifier\n",
    "knn = KNeighborsClassifier(n_neighbors=7)\n",
    "knn_result = cross_validation(knn,X2,y,15)\n",
    "print(knn_result)"
   ]
  },
  {
   "cell_type": "markdown",
   "metadata": {
    "id": "DnbWXmweP9-y"
   },
   "source": [
    "NAIVE BAYES"
   ]
  },
  {
   "cell_type": "code",
   "execution_count": 67,
   "metadata": {
    "colab": {
     "base_uri": "https://localhost:8080/",
     "height": 0
    },
    "id": "SP-MwUS5P9-y",
    "outputId": "9d89f107-5dfd-4242-bcf9-892840a8068f"
   },
   "outputs": [
    {
     "name": "stdout",
     "output_type": "stream",
     "text": [
      "{'Mean Training Accuracy': 88.30350270169983, 'Mean Training Precision': 93.23239331534025, 'Mean Training Recall': 80.7287834295751}\n"
     ]
    }
   ],
   "source": [
    "from sklearn.naive_bayes import GaussianNB\n",
    "gnb = GaussianNB()\n",
    "nb_result = cross_validation(gnb,X2,y,15)\n",
    "print(nb_result)"
   ]
  }
 ],
 "metadata": {
  "colab": {
   "provenance": []
  },
  "kernelspec": {
   "display_name": "Python 3",
   "language": "python",
   "name": "python3"
  },
  "language_info": {
   "codemirror_mode": {
    "name": "ipython",
    "version": 3
   },
   "file_extension": ".py",
   "mimetype": "text/x-python",
   "name": "python",
   "nbconvert_exporter": "python",
   "pygments_lexer": "ipython3",
   "version": "3.8.5"
  }
 },
 "nbformat": 4,
 "nbformat_minor": 1
}
